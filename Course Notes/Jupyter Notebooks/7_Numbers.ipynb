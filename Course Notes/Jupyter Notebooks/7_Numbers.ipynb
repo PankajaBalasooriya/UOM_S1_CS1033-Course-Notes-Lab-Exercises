{
 "cells": [
  {
   "cell_type": "markdown",
   "metadata": {
    "id": "bjQ9NNCedv-e"
   },
   "source": [
    "# 7.1  Introduction\n",
    "\n",
    "Number data types store numeric values. They are *immutable*, which means once created their value never changes. This means, changing the value of a numeric data type results in a newly allocated object.\n",
    "\n",
    "Number objects are created when you assign a value to them. For example:\n",
    "\n",
    "\n",
    "\n",
    "```\n",
    "  var1 = 1\n",
    "  var2 = 10\n",
    "```\n",
    "\n",
    "You can also delete the reference to a number object by using the del statement. The syntax of the del statement is:\n",
    "\n",
    "\n",
    "\n",
    "```\n",
    "  del var1[,var2[,var3[....,varN]]]]\n",
    "```\n",
    "You can delete a single object or multiple objects by using the del statement. For example:\n",
    "\n",
    "\n",
    "```\n",
    "  del var\n",
    "  del var_a, var_b\n",
    "```\n",
    "Python supports three different numerical types:\n",
    "\n",
    "\n",
    "\n",
    "*   **int** (signed integers): often called just integers or ints, are positive or negative whole numbers with no decimal point. There is no limit for the length of integer literals apart from what can be stored in available memory \n",
    "\n",
    "*   **float** (floating point, real values) : or floats, represent real numbers and are written with a decimal point dividing the integer and fractional parts. Floats may also be in scientific notation, with E or e indicating the power of 10 ($2.5e^{2} = 2.5$ x $10^{2} = 250$). \n",
    "\n",
    "*  **complex** (complex numbers) : are of the form a + bJ, where a and b are floats and J (or j) represents the square root of -1 (which is an imaginary number). a is the real part of the number, and b is the imaginary part. Complex numbers are not used much in Python programming.\n",
    "\n",
    "\n",
    "\n",
    "\n",
    "\n",
    "\n",
    "\n",
    "\n",
    "\n"
   ]
  },
  {
   "cell_type": "markdown",
   "metadata": {
    "id": "HhLM6nV4gTU-"
   },
   "source": [
    "# 7.2  Examples\n",
    "\n",
    "Here are some examples:\n",
    "\n",
    "<table>\n",
    "<tr align ='center'>\n",
    "  <th style=\"text-align:center\"> int </th>\n",
    "  <th style=\"text-align:center\"> float </th>\n",
    "  <th style=\"text-align:center\"> complex </th>\n",
    "</tr>\n",
    "<tr align='center'>\n",
    "  <td style=\"text-align:center\">10</td>\n",
    "  <td style=\"text-align:center\">0.0</td>\n",
    "  <td style=\"text-align:center\">3.14j</td>\n",
    "</tr>\n",
    "<tr align='center'>\n",
    "  <td style=\"text-align:center\">100</td>\n",
    "  <td style=\"text-align:center\">15.2</td>\n",
    "  <td style=\"text-align:center\">45.j</td>\n",
    "</tr>\n",
    "<tr align='center'>\n",
    "  <td style=\"text-align:center\">-786</td>\n",
    "  <td style=\"text-align:center\">-21.9</td>\n",
    "  <td style=\"text-align:center\">9.322e-36j</td>\n",
    "</tr>\n",
    "<tr align='center'>\n",
    "  <td style=\"text-align:center\">080</td>\n",
    "  <td style=\"text-align:center\">32.3e+18</td>\n",
    "  <td style=\"text-align:center\">.876j</td>\n",
    "</tr>\n",
    "<tr align='center'>\n",
    "  <td style=\"text-align:center\">-0490</td>\n",
    "  <td style=\"text-align:center\">-90.</td>\n",
    "  <td style=\"text-align:center\">-.6545+0J</td>\n",
    "</tr>\n",
    "<tr align='center'>\n",
    "  <td style=\"text-align:center\">-0x260</td>\n",
    "  <td style=\"text-align:center\">-32.54e100</td>\n",
    "  <td style=\"text-align:center\">3e+26J</td>\n",
    "</tr>\n",
    "<tr align='center'>\n",
    "  <td style=\"text-align:center\">0x69</td>\n",
    "  <td style=\"text-align:center\">70.2E-12</td>\n",
    "  <td style=\"text-align:center\">4.53e-7j</td>\n",
    "</tr>\n",
    "</th>\n",
    "</table>\n",
    "\n",
    "\n",
    "A complex number consists of an ordered pair of real floating-point numbers denoted by a + bj, where a is the real part and b is the imaginary part of the complex number.\n"
   ]
  },
  {
   "cell_type": "markdown",
   "metadata": {
    "id": "sqdfUOyTh5Uy"
   },
   "source": [
    "# 7.3 Number Type Conversion\n",
    "\n",
    "Python converts numbers internally in an expression containing mixed types to a common type for evaluation. But sometimes, we need to coerce a number explicitly from one type to another to satisfy the requirements of an operator or function parameter.\n",
    "\n",
    "\n",
    "\n",
    "*   Type int(x) to convert x to a plain integer.\n",
    "\n",
    "*   Type float(x) to convert x to a floating-point number.\n",
    "\n",
    "*   Type complex(x) to convert x to a complex number with real part x and imaginary part zero.\n",
    "\n",
    "*  Type complex(x, y) to convert x and y to a complex number with real part x and imaginary part y. x and y are numeric expressions.\n",
    "\n"
   ]
  },
  {
   "cell_type": "code",
   "execution_count": 5,
   "metadata": {},
   "outputs": [
    {
     "name": "stdout",
     "output_type": "stream",
     "text": [
      "Value of b is 10. Type of b is <class 'int'>\n",
      "Value of c is 10.0. Type of c is <class 'float'>\n",
      "Value of d is (10+0j). Type of d is <class 'complex'>\n"
     ]
    }
   ],
   "source": [
    "a = 10\n",
    "b = int(a)\n",
    "print(f\"Value of b is {b}. Type of b is {type(a)}\")\n",
    "c = float(a)\n",
    "print(f\"Value of c is {c}. Type of c is {type(c)}\")\n",
    "d = complex(a)\n",
    "print(f\"Value of d is {d}. Type of d is {type(d)}\")"
   ]
  }
 ],
 "metadata": {
  "colab": {
   "collapsed_sections": [],
   "name": "Numbers.ipynb",
   "provenance": []
  },
  "kernelspec": {
   "display_name": "Python 3.10.0 64-bit",
   "language": "python",
   "name": "python3"
  },
  "language_info": {
   "codemirror_mode": {
    "name": "ipython",
    "version": 3
   },
   "file_extension": ".py",
   "mimetype": "text/x-python",
   "name": "python",
   "nbconvert_exporter": "python",
   "pygments_lexer": "ipython3",
   "version": "3.10.0"
  },
  "vscode": {
   "interpreter": {
    "hash": "f828e95a9b9bc7dc8351a34f16a1f350f8657cec2dabd19a6b6b56268dd61f60"
   }
  }
 },
 "nbformat": 4,
 "nbformat_minor": 1
}
