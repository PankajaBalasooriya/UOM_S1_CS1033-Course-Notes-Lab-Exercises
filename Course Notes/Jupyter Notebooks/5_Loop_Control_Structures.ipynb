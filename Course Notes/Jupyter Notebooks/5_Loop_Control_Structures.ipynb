{
 "cells": [
  {
   "cell_type": "markdown",
   "metadata": {
    "id": "_5ELrh7iOaZO"
   },
   "source": [
    "# **5 - Loop Control Structures**"
   ]
  },
  {
   "cell_type": "markdown",
   "metadata": {
    "id": "3ZKufTXZVQG7"
   },
   "source": [
    "Python provides the two loop structures: the ***for*** loop and the ***while*** loop. We can also have nested loops, i.e., a loop inside a loop. These are discussed in this Chapter."
   ]
  },
  {
   "cell_type": "markdown",
   "metadata": {
    "id": "O4URmKvdVYjH"
   },
   "source": [
    "## ***5.1 - The for Loop***\n",
    "\n",
    "---\n",
    "The *for* loop construct is used to repeat a statement or block of statements a specified number of times. The *for* loop can also iterate over the items of any sequence (a list or a string), in the order that they appear in the sequence.\n",
    "\n",
    "\n",
    "\n",
    "```\n",
    "Syntax: The syntax of the for loop is as follows:\n",
    "\n",
    "      for iterating_var in sequence:\n",
    "        statements(s)\n",
    "\n",
    "```\n",
    "\n",
    "The block of statements executed repeatedly is called the loop body. The loop body is indented. \n",
    "\n",
    "If the sequence contains an expression list, it is evaluated first. Then, the first item in the sequence is assigned to the iterating variable *iterating_var* and the loop body is executed. This concludes one iteration of the loop. Next the second iteration of the loop body is executed after the second item is assigned to the iterating variable *iterating_var*. Like this, the loop body is executed repeatedly, with a unique item in the list assigned to *iterating_var* in each iteration, until the entire sequence is exhausted.\n",
    "\n",
    "Here is an example.\n"
   ]
  },
  {
   "cell_type": "code",
   "execution_count": 1,
   "metadata": {
    "colab": {
     "base_uri": "https://localhost:8080/"
    },
    "id": "v0UWZ-dwOS_3",
    "outputId": "1f909e0a-e039-4fb6-85f8-a3941f54860a"
   },
   "outputs": [
    {
     "name": "stdout",
     "output_type": "stream",
     "text": [
      "This is a loop: counter =  1\n",
      "This is a loop: counter =  2\n",
      "This is a loop: counter =  3\n",
      "This is a loop: counter =  4\n",
      "This is a loop: counter =  5\n"
     ]
    }
   ],
   "source": [
    "# Program-5.1 \n",
    "for counter in range(1, 6):\n",
    "    print(\"This is a loop: counter = \", counter)\n"
   ]
  },
  {
   "cell_type": "markdown",
   "metadata": {
    "id": "ixJTd0I2XRTP"
   },
   "source": [
    "***The range() function***: If we do need to iterate over a sequence of numbers, the built-in function *range()* comes in handy. It generates range objects containing arithmetic progressions. Implementation of *range()* is as either  *range(stop)* or *range(start, stop[, step])*. See how it is useful in program-5.1. Here are four interactive examples.\n",
    "\n",
    "\n",
    "```\n",
    ">>> list(range(10))\n",
    "[0, 1, 2, 3, 4, 5, 6, 7, 8, 9]\n",
    ">>> list(range(5, 10))\n",
    "[5, 6, 7, 8, 9]\n",
    ">>> list(range(0, 10, 3))\n",
    "[0, 3, 6, 9]\n",
    ">>> list(range(-10, -100, -30))\n",
    "[-10, -40, -70]\n",
    "\n",
    "```\n",
    "\n",
    "Try it out here:"
   ]
  },
  {
   "cell_type": "code",
   "execution_count": 2,
   "metadata": {},
   "outputs": [
    {
     "data": {
      "text/plain": [
       "[0, 3, 6, 9]"
      ]
     },
     "execution_count": 2,
     "metadata": {},
     "output_type": "execute_result"
    }
   ],
   "source": [
    "[i for i in range(0, 10, 3)]"
   ]
  },
  {
   "cell_type": "markdown",
   "metadata": {
    "id": "RgQpIzIoXrI2"
   },
   "source": [
    "The given end point is never part of the generated list; range(10) generates a list of 10 values, 0,1,2,…,9 , i.e., the legal indices for items of a sequence of length 10 (first example). It is possible to let the range start at another number (second example above), or to specify a different increment (even negative), which is called the step., with a third argument for the range() function, as seen in the last two examples above.\n",
    "To iterate over the indices of a list or sequence (which will be covered in the next Chapter) in a for loop, you can combine range() and len() functions as follows:"
   ]
  },
  {
   "cell_type": "code",
   "execution_count": 3,
   "metadata": {},
   "outputs": [
    {
     "name": "stdout",
     "output_type": "stream",
     "text": [
      "0 Mali\n",
      "1 had\n",
      "2 a\n",
      "3 little\n",
      "4 puppy\n"
     ]
    }
   ],
   "source": [
    "a = ['Mali', 'had', 'a', 'little', 'puppy']\n",
    "for i in range(len(a)):\n",
    "    print(i, a[i])"
   ]
  },
  {
   "cell_type": "markdown",
   "metadata": {},
   "source": [
    "***Exercise 5.1***: Write a program to display the integers from 100 to 200. "
   ]
  },
  {
   "cell_type": "code",
   "execution_count": 4,
   "metadata": {
    "id": "_gBaBqBhXp1w"
   },
   "outputs": [],
   "source": [
    "##Try the Exercise 5.1 here\n"
   ]
  },
  {
   "cell_type": "markdown",
   "metadata": {
    "id": "AKaxiQyVYFHV"
   },
   "source": [
    "***Example 5.1***: Write a program to compute the sum of all even numbers up to 100, inclusive.\n",
    "\n",
    "For this problem, the first even number is 0 and the last even number is 100. By adding 2 to an even number the next even number can be found. Therefore we can have a loop with a counter  incremented by 2 in each iteration. Program-5.2 is an implementation of this"
   ]
  },
  {
   "cell_type": "code",
   "execution_count": 5,
   "metadata": {
    "colab": {
     "base_uri": "https://localhost:8080/"
    },
    "id": "Ekv9Ahs8XN9X",
    "outputId": "26c7ecdd-f116-49d5-9e83-11f3980d69b9"
   },
   "outputs": [
    {
     "name": "stdout",
     "output_type": "stream",
     "text": [
      "total =  2550\n"
     ]
    }
   ],
   "source": [
    "# Program-5.2 \n",
    "sum_total = 0\n",
    "for counter in range(0,101,2):\n",
    "    sum_total += counter\n",
    "print('total = ', sum_total)"
   ]
  },
  {
   "cell_type": "markdown",
   "metadata": {
    "id": "HlTRNe6XYPbv"
   },
   "source": [
    "\n",
    "***Exercise 5.2*** : Modify Program-5.2 such that it computes the sum of all the odd numbers up to 100.\n"
   ]
  },
  {
   "cell_type": "code",
   "execution_count": 6,
   "metadata": {
    "id": "8Hd59bVo5OCt"
   },
   "outputs": [],
   "source": [
    "##Try the Exercise 5.2 here\n",
    "\n"
   ]
  },
  {
   "cell_type": "markdown",
   "metadata": {
    "id": "5CBkgD9t5h6T"
   },
   "source": [
    "\n",
    "***Exercise 5.3*** : Write a program to compute the sum of all integers from 1 to 100.\n"
   ]
  },
  {
   "cell_type": "code",
   "execution_count": 7,
   "metadata": {
    "id": "1BG0W-3A5j87"
   },
   "outputs": [],
   "source": [
    "##Try the Exercise 5.3 here\n",
    "\n"
   ]
  },
  {
   "cell_type": "markdown",
   "metadata": {
    "id": "s0j6fEvQ5kGS"
   },
   "source": [
    "\n",
    "***Exercise 5.4*** : Write a program to compute the factorial of any given positive integer < 100. "
   ]
  },
  {
   "cell_type": "code",
   "execution_count": 8,
   "metadata": {
    "id": "n8eIfh-B5oPa"
   },
   "outputs": [],
   "source": [
    "##Try the Exercise 5.4 here\n",
    "\n"
   ]
  },
  {
   "cell_type": "markdown",
   "metadata": {
    "id": "bzgjj83qYXW1"
   },
   "source": [
    "***Example 5.2*** : Write a program to compute the sum of all integers between any given two numbers.\n",
    "\n",
    "In this program both inputs should be given from the keyboard. Therefore at the time of program development both initial value and the final value are not known.\n"
   ]
  },
  {
   "cell_type": "code",
   "execution_count": null,
   "metadata": {
    "colab": {
     "base_uri": "https://localhost:8080/"
    },
    "id": "m2IYWUeiXHuq",
    "outputId": "f8169f3e-2cac-4514-e5d4-8fa8d62eb2a2"
   },
   "outputs": [],
   "source": [
    "# Program-5.3 \n",
    "num1 = int(input(\"Enter First Number:\")) #read Number1\n",
    "num2 = int(input(\"Enter Second Number:\")) #read Number2\n",
    "sum = 0\n",
    "for N in range( num1,num2+1) :\n",
    "    sum = sum + N\n",
    "print(\"The sum is:\",sum)\n"
   ]
  },
  {
   "cell_type": "markdown",
   "metadata": {
    "id": "_TQd2y6QYqHO"
   },
   "source": [
    "***Exercise 5.5*** : Can the loop body of a for loop never get executed? Explain using program-5.3."
   ]
  },
  {
   "cell_type": "markdown",
   "metadata": {
    "id": "R5e2CvkbYrcm"
   },
   "source": [
    "## ***5.2 - The while Loop***\n",
    "---\n",
    "A *while* loop in Python repeatedly executes the loop body as long as a given condition is true. The condition is specified by an expression.\n",
    "\n",
    "\n",
    "\n",
    "```\n",
    "Syntax: The syntax of a while loop is:\n",
    "\n",
    "      while expression:\n",
    "        statement(s)\n",
    "\n",
    "```\n",
    "The block of statements executed repeatedly is the loop body, which is indented, as in the *for* loop.\n",
    "\n",
    "The condition to execute the loop body is considered true if the expression is true or it is any non-zero value. The loop iterates while the condition is true. When the condition becomes false, program control passes to the line immediately following the loop body.\n",
    "\n",
    "Note that, in Python, all statements indented by the same number of character spaces after a programming construct are considered to be part of a single block of code. Python uses indentation as its method of grouping statements.\n",
    "Note that the *while* loop might not ever run. When the condition is tested and the result is false, the loop body will be skipped and the first statement after the *while* loop will be executed.\n",
    "\n",
    "Consider the following example:"
   ]
  },
  {
   "cell_type": "code",
   "execution_count": null,
   "metadata": {
    "colab": {
     "base_uri": "https://localhost:8080/"
    },
    "id": "bH_BJWpsYicn",
    "outputId": "56810c6a-448f-4d01-9938-09575d45f641"
   },
   "outputs": [
    {
     "name": "stdout",
     "output_type": "stream",
     "text": [
      "Enter Number of time to repeat: 5\n",
      "Hello World!\n",
      "Hello World!\n",
      "Hello World!\n",
      "Hello World!\n",
      "Hello World!\n"
     ]
    }
   ],
   "source": [
    "# Program-5.4 \n",
    "num = int(input(\"Enter Number of time to repeat: \"))\n",
    "while (num != 0) :\n",
    "    print(\"Hello World!\")\n",
    "    num = num - 1\n"
   ]
  },
  {
   "cell_type": "markdown",
   "metadata": {
    "id": "8Uf7XXNIZB9t"
   },
   "source": [
    "Execute the above Program-5.4 with different input numbers and observe the output."
   ]
  },
  {
   "cell_type": "markdown",
   "metadata": {
    "id": "t0wCLYPXZP92"
   },
   "source": [
    "## ***5.3 - Using else with Loops***\n",
    "---\n",
    "\n",
    "Python allows to use an *else* clause with loops, as follows.\n",
    "\n",
    "\n",
    "*  If the *else* clause is used with a *for* loop, the *else* clause is executed when the loop has exhausted iterating the list.\n",
    "\n",
    "*   If the *else* clause is used with a *while* loop, the *else* clause is executed when the loop condition becomes false.\n",
    "\n",
    "Note however that the above does not happen when the loop is terminated by a break statement (to be discussed later). That is, a loop’s *else* clause is executed when no break occurs.\n",
    "The following example illustrates the combination of an *else* clause with a *while* loop that prints a number as long as it is less than 5. When the loop condition becomes false, the else clause gets executed."
   ]
  },
  {
   "cell_type": "code",
   "execution_count": null,
   "metadata": {
    "colab": {
     "base_uri": "https://localhost:8080/"
    },
    "id": "ohyw9Etad4vG",
    "outputId": "1021fd84-3cd3-492e-f8f4-26faf378eae6"
   },
   "outputs": [
    {
     "name": "stdout",
     "output_type": "stream",
     "text": [
      "0  is  less than 5\n",
      "1  is  less than 5\n",
      "2  is  less than 5\n",
      "3  is  less than 5\n",
      "4  is  less than 5\n",
      "5  is not less than 5\n"
     ]
    }
   ],
   "source": [
    "# Program-5.5 \n",
    "count = 0\n",
    "while count < 5:\n",
    "   print(count, \" is  less than 5\")\n",
    "   count = count + 1\n",
    "else:\n",
    "   print(count, \" is not less than 5\")\n"
   ]
  },
  {
   "cell_type": "markdown",
   "metadata": {
    "id": "Sctd53qtd8Zf"
   },
   "source": [
    "When the above code is executed, it produces the following output.\n",
    "\n",
    "```\n",
    "0 is less than 5\n",
    "1 is less than 5\n",
    "2 is less than 5\n",
    "3 is less than 5\n",
    "4 is less than 5\n",
    "5 is not less than 5\n",
    "\n",
    "```\n",
    "\n",
    "## ***5.4 - Nested Loops***\n",
    "\n",
    "---\n",
    "\n",
    "We can use one loop inside another loop. We will show a few examples to illustrate the concept.\n",
    "\n",
    "\n",
    "```\n",
    "Syntax: The syntax for a nested for-while loop combination is as follows:\n",
    "\n",
    "        for iterating_var in sequence:\n",
    "                while expression:\n",
    "                        statement(s)\n",
    "                statement(s)\n",
    "\n",
    "```\n",
    "\n",
    "\n",
    "\n",
    "```\n",
    "Syntax: The syntax for a nested while-for loop combination is as follows:\n",
    "\n",
    "        while expression:\n",
    "                for iterating_var in sequence:\n",
    "                        statement(s)\n",
    "                statement(s)\n",
    "```\n",
    "\n",
    "Note that you can put any type of loop inside any other type of loop. For example a *for* loop can be inside a *for* loop.\n",
    "\n",
    "***Example 5.2*** : The following program uses a nested loop to find the prime numbers from 2 to 100.\n"
   ]
  },
  {
   "cell_type": "code",
   "execution_count": null,
   "metadata": {
    "colab": {
     "base_uri": "https://localhost:8080/"
    },
    "id": "qmcavVl9fB5p",
    "outputId": "c8373dad-b39e-4788-ce27-5ee25e3ddd81"
   },
   "outputs": [
    {
     "name": "stdout",
     "output_type": "stream",
     "text": [
      "2  is prime\n",
      "3  is prime\n",
      "5  is prime\n",
      "7  is prime\n",
      "11  is prime\n",
      "13  is prime\n",
      "17  is prime\n",
      "19  is prime\n",
      "23  is prime\n",
      "29  is prime\n",
      "31  is prime\n",
      "37  is prime\n",
      "41  is prime\n",
      "43  is prime\n",
      "47  is prime\n",
      "53  is prime\n",
      "59  is prime\n",
      "61  is prime\n",
      "67  is prime\n",
      "71  is prime\n",
      "73  is prime\n",
      "79  is prime\n",
      "83  is prime\n",
      "89  is prime\n",
      "97  is prime\n",
      "Good bye!\n"
     ]
    }
   ],
   "source": [
    "# Program-5.6 \n",
    "i = 2\n",
    "while (i < 100):\n",
    "   j = 2\n",
    "   while (j <= (i/j)):\n",
    "      if not(i%j): break\n",
    "      j = j + 1\n",
    "   if (j > i/j) : print(i, \" is prime\")\n",
    "   i = i + 1\n",
    "print(\"Good bye!\")\n"
   ]
  },
  {
   "cell_type": "markdown",
   "metadata": {
    "id": "GJG5cmevfLw2"
   },
   "source": [
    "\n",
    "***Example 5.3*** : Write a Python program to display the following pattern:\n",
    "\n",
    "```\n",
    "$$$$$$$$$$\n",
    "$$$$$$$$$$\n",
    "$$$$$$$$$$\n",
    "$$$$$$$$$$\n",
    "$$$$$$$$$$\n",
    "\n",
    "```\n",
    "\n",
    "There are 10 “\\\\$” symbols in a single row (10 columns) and there are 5 rows. This can be implemented by having two loops, one nested inside another. The inner loop will print 10 individual “$” symbols within a row, on a line. The outer loop can advance to the next line. Program-5.7 displays the above symbol pattern. To print the value of the next iteration in the same row, we have to initialize end parameter as end='' where we do not need a space between printed strings or end=' ' where we need a space between printed elements.\n"
   ]
  },
  {
   "cell_type": "code",
   "execution_count": null,
   "metadata": {
    "colab": {
     "base_uri": "https://localhost:8080/"
    },
    "id": "rK7bnxl7fLTH",
    "outputId": "5a0a943e-0344-4513-f368-ad09f53628fb"
   },
   "outputs": [
    {
     "name": "stdout",
     "output_type": "stream",
     "text": [
      "$$$$$$$$$$\n",
      "$$$$$$$$$$\n",
      "$$$$$$$$$$\n",
      "$$$$$$$$$$\n",
      "$$$$$$$$$$\n"
     ]
    }
   ],
   "source": [
    "# Program-5.7 \n",
    "for x in range (0, 5):\n",
    "   for y in range (0, 10):\n",
    "       print('$',end='')\n",
    "   print('\\n',end='')\n"
   ]
  },
  {
   "cell_type": "markdown",
   "metadata": {
    "id": "Wx6zBrbzfrI5"
   },
   "source": [
    "***Exercise 5.5*** – Write a Python program using two loops (nested) to display the following pattern:\n",
    "\n",
    "```\n",
    "*\n",
    "**\n",
    "***\n",
    "****\n",
    "*****\n",
    "******\n",
    "```\n",
    "\n"
   ]
  },
  {
   "cell_type": "code",
   "execution_count": null,
   "metadata": {
    "id": "kOhjwJicfEPb"
   },
   "outputs": [],
   "source": [
    "#Try Exercise 5.5 here\n"
   ]
  },
  {
   "cell_type": "markdown",
   "metadata": {
    "id": "EPRnMnRmhRpw"
   },
   "source": [
    "## ***5.5 - The break Keyword***\n",
    "---\n",
    "\n",
    "The ***break*** keyword is used inside a loop and is used for terminating the current iteration of the loop body immediately; i.e., to break out of the smallest enclosing for or *while* loop. The control will be transferred to the first statement following the loop body. If you are inside the inner loop of a nested loop, then the *break* statement inside that inner loop transfers the control to the immediate outer loop. The *break* statement can be used to terminate an infinite loop or to force a loop to end before its normal termination. \n",
    "\n",
    "Consider the following example."
   ]
  },
  {
   "cell_type": "code",
   "execution_count": null,
   "metadata": {
    "colab": {
     "base_uri": "https://localhost:8080/"
    },
    "id": "Bx7rYeDNhjCf",
    "outputId": "4c8df19b-298e-4611-c76a-f5a54a01afe7"
   },
   "outputs": [
    {
     "name": "stdout",
     "output_type": "stream",
     "text": [
      "Hello World!\n",
      "Hello World!\n",
      "Hello World!\n",
      "Hello World!\n",
      "Hello World!\n",
      "Hello World!\n",
      "Countdown Aborted\n"
     ]
    }
   ],
   "source": [
    "# Program-5.8 \n",
    "n = 10;\n",
    "for var in range(0, n):\n",
    "    print(\"Hello World!\")\n",
    "    if (var == 5):\n",
    "        print(\"Countdown Aborted\")\n",
    "        break;\n"
   ]
  },
  {
   "cell_type": "markdown",
   "metadata": {
    "id": "ejLLX9nChoCF"
   },
   "source": [
    "Under normal circumstances (without the *break*) the Program-5.8 will display the “Hello World!” 10 times. During the first 5 iterations of the for loop, the program executes normally displaying the string “Hello World!”. Then at the beginning of the sixth iteration variable “var” becomes “5”. Therefore the if clause which evaluates whether “var == 5” becomes “true”; as a result the “Countdown Aborted” string gets displayed and then the *break* statements is executed. At this point the loop will terminate because of the *break* keyword."
   ]
  },
  {
   "cell_type": "markdown",
   "metadata": {
    "id": "PEQmkqKHhr8P"
   },
   "source": [
    "## ***5.6 - The continue Keyword***\n",
    "---\n",
    "\n",
    "The *continue* keyword inside a loop causes the program to skip the rest of the loop body in the current iteration, causing it to *continue* with the next iteration of the loop. \n",
    "\n",
    "Here is an example. \n"
   ]
  },
  {
   "cell_type": "code",
   "execution_count": null,
   "metadata": {
    "colab": {
     "base_uri": "https://localhost:8080/"
    },
    "id": "ckorCNeuh5KQ",
    "outputId": "39e7870c-6d50-476c-9edb-bfc92fb0499a"
   },
   "outputs": [
    {
     "name": "stdout",
     "output_type": "stream",
     "text": [
      "5 divided by  -5  is:  -1.0\n",
      "5 divided by  -4  is:  -1.25\n",
      "5 divided by  -3  is:  -1.6666666666666667\n",
      "5 divided by  -2  is:  -2.5\n",
      "5 divided by  -1  is:  -5.0\n",
      "5 divided by  1  is:  5.0\n",
      "5 divided by  2  is:  2.5\n",
      "5 divided by  3  is:  1.6666666666666667\n",
      "5 divided by  4  is:  1.25\n",
      "5 divided by  5  is:  1.0\n"
     ]
    }
   ],
   "source": [
    "# Program-5.9\n",
    "for i in range(-5,6):\n",
    "    if i == 0 :\n",
    "        continue\n",
    "    print(\"5 divided by \", i, \" is: \", (5.0/i))\n"
   ]
  },
  {
   "cell_type": "markdown",
   "metadata": {
    "id": "kDkli5Zeh99N"
   },
   "source": [
    "In program-5.9, 5 is divided by all the integers from -5 to +5. However we want to avoid dividing by 0. In Program-5.9, when “i” is 0 (when the if condition is TRUE) the *continue* keyword is used to skip the rest of the loop body in that iteration; this will skip the *print* statement which has the division by 0.\n",
    "\n",
    "## ***5.7 -  The pass Keyword***\n",
    "---\n",
    "The *pass* statement inside a loop is used when a statement is required syntactically but you do not want any command or code to execute. This is mainly used when we have a loop or a function that is not implemented yet. We cannot have an empty body in Python. So we use *pass* statement to construct a body that does nothing.\n",
    "Here is an example.\n"
   ]
  },
  {
   "cell_type": "code",
   "execution_count": null,
   "metadata": {
    "id": "CZvtOsFyh80p"
   },
   "outputs": [],
   "source": [
    "# Program-5.10\n",
    "fruits = ['Apple', 'Orange', 'Grapes', 'Pineapple', 'Banana', 'Mango', 'Starfruit']\n",
    "for fruit in fruits:\n",
    "    pass"
   ]
  }
 ],
 "metadata": {
  "colab": {
   "collapsed_sections": [],
   "name": "5_Loop_Control_Structures.ipynb",
   "provenance": []
  },
  "kernelspec": {
   "display_name": "Python 3.10.0 64-bit",
   "language": "python",
   "name": "python3"
  },
  "language_info": {
   "codemirror_mode": {
    "name": "ipython",
    "version": 3
   },
   "file_extension": ".py",
   "mimetype": "text/x-python",
   "name": "python",
   "nbconvert_exporter": "python",
   "pygments_lexer": "ipython3",
   "version": "3.10.0"
  },
  "vscode": {
   "interpreter": {
    "hash": "f828e95a9b9bc7dc8351a34f16a1f350f8657cec2dabd19a6b6b56268dd61f60"
   }
  }
 },
 "nbformat": 4,
 "nbformat_minor": 1
}
