{
 "cells": [
  {
   "cell_type": "markdown",
   "metadata": {
    "id": "j9Btb40Lm8ih"
   },
   "source": [
    "# 6.1  Sequences\n",
    "\n",
    "The most basic data structure in Python is the *sequence*. Sequences are *compound* data types, and they are used to group other values together. Each element of a sequence is assigned a number - its position or *index*. The first index is zero, the second index is one, and so forth. \n",
    "\n",
    "There are certain things you can do with all sequence types. These operations include indexing, slicing, adding, multiplying, and checking for membership. In addition, Python has many built-in functions to be used with sequence types, for e.g., for finding the length of a sequence and for finding its largest and smallest elements.\n",
    "\n",
    "Python has six built-in types of sequences; the most common one is *lists*, which we will discuss now."
   ]
  },
  {
   "cell_type": "markdown",
   "metadata": {
    "id": "7C4e8zXIqtRr"
   },
   "source": [
    "# 6.2  Python Lists\n",
    "\n",
    "The list is the most versatile data-type available in Python which can be written as a list of comma-separated values (items) between square brackets. Items in a list need not all have the same type. Creating a list is as simple as listing different comma-separated values between square brackets. For example:\n",
    "\n",
    "\n",
    "\n",
    "```\n",
    "    list1 = ['physics', 'chemistry', 1997, 2000]\n",
    "    list2 = [1, 2, 3, 4, 5]\n",
    "    list3 = [\"a\", \"b\", \"c\", \"d\", ‘pqr’, 12.345]\n",
    "```\n",
    "\n",
    "\n",
    "List indices start at 0, and lists can be sliced, concatenated and so on.\n",
    "\n"
   ]
  },
  {
   "cell_type": "markdown",
   "metadata": {
    "id": "GRrQu04rrPAZ"
   },
   "source": [
    "# 6.3  Accessing Values in Lists\n",
    "\n",
    "To access values in lists, use square brackets for slicing along with the index or indices to obtain value available at that index. The following is a simple example:\n"
   ]
  },
  {
   "cell_type": "code",
   "execution_count": 3,
   "metadata": {
    "colab": {
     "base_uri": "https://localhost:8080/"
    },
    "id": "MsnpJNtOlQZk",
    "outputId": "ac5a7d08-38ae-4b95-ef0d-2fd234c34906"
   },
   "outputs": [
    {
     "name": "stdout",
     "output_type": "stream",
     "text": [
      "list1[0]:  physics\n",
      "list2[1:5]:  [2, 3, 4, 5]\n"
     ]
    }
   ],
   "source": [
    "# Program-6.1\n",
    "list1 = ['physics', 'chemistry', 1997, 2000]\n",
    "list2 = [1, 2, 3, 4, 5, 6, 7 ]\n",
    "print(\"list1[0]: \", list1[0])\n",
    "print(\"list2[1:5]: \", list2[1:5])"
   ]
  },
  {
   "cell_type": "markdown",
   "metadata": {
    "id": "N7jGSoMpr21b"
   },
   "source": [
    "# 6.4  Updating Lists\n",
    "\n",
    "You can update single or multiple elements of lists by giving the slice on the left-hand side of the assignment operator. You can add to elements in a list with the append() function. For example:\n",
    "\n"
   ]
  },
  {
   "cell_type": "code",
   "execution_count": 4,
   "metadata": {
    "colab": {
     "base_uri": "https://localhost:8080/"
    },
    "id": "HJ2Is7oXsEun",
    "outputId": "3828c69c-e2bb-46de-c47f-9a5effd2953c"
   },
   "outputs": [
    {
     "name": "stdout",
     "output_type": "stream",
     "text": [
      "Value at index 2 :  1997\n",
      "New value at index 2 :  2001\n"
     ]
    }
   ],
   "source": [
    "# Program-6.2\n",
    "list = ['physics', 'chemistry', 1997, 2000];\n",
    "print(\"Value at index 2 : \", list[2])\n",
    "list[2] = 2001;\n",
    "print(\"New value at index 2 : \", list[2])"
   ]
  },
  {
   "cell_type": "markdown",
   "metadata": {
    "id": "Ry40ZMGksV-z"
   },
   "source": [
    "# 6.5  Deleting List Elements\n",
    "\n",
    "To remove a list element, you can use either the del statement if you know exactly which element(s) you are deleting. The remove() method of a list object can also be used.  \n",
    "\n",
    "The following is an example."
   ]
  },
  {
   "cell_type": "code",
   "execution_count": 5,
   "metadata": {
    "colab": {
     "base_uri": "https://localhost:8080/"
    },
    "id": "5te2SKPosguw",
    "outputId": "253b161e-56ed-4f86-f5ea-f092d70ed2ca"
   },
   "outputs": [
    {
     "name": "stdout",
     "output_type": "stream",
     "text": [
      "['physics', 'chemistry', 1997, 2000]\n",
      "After deleting value at index 2 :  ['physics', 'chemistry', 2000]\n"
     ]
    }
   ],
   "source": [
    "# Program-6.3\n",
    "list1 = ['physics', 'chemistry', 1997, 2000]\n",
    "print(list1)\n",
    "del list1[2]\n",
    "print(\"After deleting value at index 2 : \", list1)"
   ]
  },
  {
   "cell_type": "markdown",
   "metadata": {
    "id": "sN3O_jhrsv9-"
   },
   "source": [
    "# 6.6  Other List Operations \n",
    "\n",
    "Lists respond to the + and * operators (much like strings), where “+” means  concatenation and ‘*’ means repetition, and the result is a new list. In fact, lists respond to all general sequence operations. Table 6.1 shows some example list operations.\n",
    "\n",
    "Table 6.1 : Some example list operations\n",
    "<table align='center'>\n",
    "\n",
    "  <tr>\n",
    "      <th style=\"text-align:left\"> Python Expression </th>\n",
    "      <th style=\"text-align:center\"> Result </th>\n",
    "      <th style=\"text-align:center\"> Description </th>\n",
    "  </tr>\n",
    "  <tr>\n",
    "      <td style=\"text-align:left\"> <code>len([1, 2, 3])</code> </td>\n",
    "      <td style=\"text-align:center\"> 3 </td>\n",
    "      <td style=\"text-align:center\"> Length </td>\n",
    "  </tr>\n",
    "  <tr>\n",
    "      <td style=\"text-align:left\"> <code>[1, 2, 3] + [4, 5, 6]</code> </td>\n",
    "      <td style=\"text-align:center\"> [1, 2, 3, 4, 5, 6] </td>\n",
    "      <td style=\"text-align:center\"> Concatenation </td>\n",
    "  </tr>\n",
    "  <tr>\n",
    "      <td style=\"text-align:left\"> <code>['Hi!'] * 4</code> </td>\n",
    "      <td style=\"text-align:center\"> ['Hi!','Hi!','Hi!','Hi!'] </td>\n",
    "      <td style=\"text-align:center\"> Repetition </td>\n",
    "  </tr>\n",
    "  <tr>\n",
    "      <td style=\"text-align:left\"> <code>3 in [1, 2, 3]</code></td>\n",
    "      <td style=\"text-align:center\"> True </td>\n",
    "      <td style=\"text-align:center\"> Membership </td>\n",
    "  </tr>\n",
    "  <tr>\n",
    "      <td style=\"text-align:left\"> <code>for x in [1, 2, 3]:  print(x,end=' ')</code></td>\n",
    "      <td style=\"text-align:center\"> 1  2  3 </td>\n",
    "      <td style=\"text-align:center\"> Iteration </td>\n",
    "  </tr>\n",
    "</table>\n",
    "\n"
   ]
  },
  {
   "cell_type": "markdown",
   "metadata": {
    "id": "OG5icWjWvUTS"
   },
   "source": [
    "# 6.7  Indexing and Slicing\n",
    "\n",
    "Because lists are sequences, indexing and slicing work the same way for lists. Assume <code>L=['spam', 'Spam', 'SPAM!']</code> and then see if you can understand Table 6.2.\n",
    "\n",
    "Table 6.2 : List indexing and slicing\n",
    "\n",
    "<table align='center'>\n",
    "\n",
    "  <tr>\n",
    "      <th style=\"text-align:center\"> Python Expression </th>\n",
    "      <th style=\"text-align:center\"> Result </th>\n",
    "      <th style=\"text-align:center\"> Description </th>\n",
    "  </tr>\n",
    "  <tr>\n",
    "      <td style=\"text-align:left\"> <code>L[2]</code> </td>\n",
    "      <td style=\"text-align:center\"> 'SPAM!' </td>\n",
    "      <td style=\"text-align:center\"> Offsets start at zero </td>\n",
    "  </tr>\n",
    "  <tr>\n",
    "      <td style=\"text-align:left\"> <code>L[-2]</code> </td>\n",
    "      <td style=\"text-align:center\"> 'Spam' </td>\n",
    "      <td style=\"text-align:center\"> Negative: count from the right </td>\n",
    "  </tr>\n",
    "  <tr>\n",
    "      <td style=\"text-align:left\"> <code>L[1:]</code> </td>\n",
    "      <td style=\"text-align:center\"> ['Spam', 'SPAM!'] </td>\n",
    "      <td style=\"text-align:center\"> Slicing fetches sections </td>\n",
    "  </tr>\n",
    "</table>"
   ]
  },
  {
   "cell_type": "markdown",
   "metadata": {
    "id": "cojtrFeLwRvJ"
   },
   "source": [
    "### *Exercise 6.1*\n",
    "\n",
    "Write a program that can find all the even numbers in a list of numbers and then print them."
   ]
  },
  {
   "cell_type": "code",
   "execution_count": null,
   "metadata": {
    "id": "yW0IRrHYw8Eh"
   },
   "outputs": [],
   "source": [
    "#Try Exercise 6.1 here\n"
   ]
  },
  {
   "cell_type": "markdown",
   "metadata": {
    "id": "2NiNp_lexDoE"
   },
   "source": [
    "### *Exercise 6.2*\n",
    "\n",
    "Write a program that will multiply two lists and generate a 3rd list. You need to also print all three lists."
   ]
  },
  {
   "cell_type": "code",
   "execution_count": null,
   "metadata": {
    "id": "S3p0pDaBxbAS"
   },
   "outputs": [],
   "source": [
    "#Try Exercise 6.2 here\n"
   ]
  }
 ],
 "metadata": {
  "colab": {
   "name": "Lists.ipynb",
   "provenance": []
  },
  "kernelspec": {
   "display_name": "Python 3.10.0 64-bit",
   "language": "python",
   "name": "python3"
  },
  "language_info": {
   "codemirror_mode": {
    "name": "ipython",
    "version": 3
   },
   "file_extension": ".py",
   "mimetype": "text/x-python",
   "name": "python",
   "nbconvert_exporter": "python",
   "pygments_lexer": "ipython3",
   "version": "3.10.0"
  },
  "vscode": {
   "interpreter": {
    "hash": "f828e95a9b9bc7dc8351a34f16a1f350f8657cec2dabd19a6b6b56268dd61f60"
   }
  }
 },
 "nbformat": 4,
 "nbformat_minor": 1
}
