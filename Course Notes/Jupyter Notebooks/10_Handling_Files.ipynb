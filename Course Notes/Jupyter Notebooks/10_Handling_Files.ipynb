{
 "cells": [
  {
   "cell_type": "markdown",
   "metadata": {
    "id": "fSq8FNcd3J-a"
   },
   "source": [
    "# **10 - Handling Files**\n"
   ]
  },
  {
   "cell_type": "markdown",
   "metadata": {
    "id": "xdo-6TV-3YsE"
   },
   "source": [
    "The programs that were developed up to now were only able to read data from the keyboard and write to the screen (except for a couple of programs in Section 2.9 which briefly introduced file handling). Using files you can save your output data permanently and retrieve them later. This chapter discusses how to do this in Python.\n",
    "\n",
    "A file is a collection of data elements or can be considered a set of related records such as student information, marks obtained in an exam, employee salaries, etc. Each record is a collection of related items called fields, such as “student name”, “date of birth”, “subjects registered”, etc. The common operations associated with a file are:\n",
    "\n",
    "*   Read from a file (input)\n",
    "*   Write to a file (output)\n",
    "*   Append to a file (write to the end of a file)\n",
    "*  Update a file (modifying any location within the file)"
   ]
  },
  {
   "cell_type": "markdown",
   "metadata": {
    "id": "pXF0sx8u4DwO"
   },
   "source": [
    "## ***10.1 - Printing to the Screen***"
   ]
  },
  {
   "cell_type": "markdown",
   "metadata": {
    "id": "wXc-T7S_4M0E"
   },
   "source": [
    "The simplest way to produce output is using the *print* statement where you can pass zero or more expressions separated by commas. This converts the expressions you pass into a string and writes the result to standard output. Here is an example:"
   ]
  },
  {
   "cell_type": "code",
   "execution_count": 17,
   "metadata": {
    "colab": {
     "base_uri": "https://localhost:8080/"
    },
    "id": "AyVJnZW63FLM",
    "outputId": "293d4b5a-60dd-4acb-9f19-6785f7f10361"
   },
   "outputs": [
    {
     "name": "stdout",
     "output_type": "stream",
     "text": [
      "Python is really a great language, isn't it?\n"
     ]
    }
   ],
   "source": [
    "print(\"Python is really a great language,\", \"isn't it?\")"
   ]
  },
  {
   "cell_type": "markdown",
   "metadata": {
    "id": "-0UfDR2W5Ggs"
   },
   "source": [
    "## ***10.2 - Reading Keyboard Input***"
   ]
  },
  {
   "cell_type": "markdown",
   "metadata": {
    "id": "RBSJIp5L5TqD"
   },
   "source": [
    "Python 3.6 provides a built-in function to read a line of text from standard input, which by default comes from the keyboard. This function is:\n",
    "\n",
    "\n",
    "```\n",
    " input\n",
    "```\n",
    "\n",
    "\n",
    "The *input([prompt])* function reads one line from standard input and returns it as a string (removing the trailing newline). Here is an example:"
   ]
  },
  {
   "cell_type": "code",
   "execution_count": 18,
   "metadata": {
    "colab": {
     "base_uri": "https://localhost:8080/"
    },
    "id": "q5RGq3FN4Tq-",
    "outputId": "88a7b523-a469-4ad8-e2d0-c090235dfb4b"
   },
   "outputs": [
    {
     "name": "stdout",
     "output_type": "stream",
     "text": [
      "Received input is :  10\n"
     ]
    }
   ],
   "source": [
    "string = input(\"Enter your input: \")\n",
    "print(\"Received input is : \", string)"
   ]
  },
  {
   "cell_type": "markdown",
   "metadata": {
    "id": "E4qm_6yS6A_0"
   },
   "source": [
    "## ***10.3 - Opening and Closing of Files***"
   ]
  },
  {
   "cell_type": "markdown",
   "metadata": {
    "id": "-NXiFoA_6NAE"
   },
   "source": [
    "Until now, you have been reading from standard input and writing to the standard output. Now, we will see how to play with actual data files.\n",
    "\n",
    "Python provides basic functions to manipulate files. You can perform most file operations using *file objects*."
   ]
  },
  {
   "cell_type": "markdown",
   "metadata": {
    "id": "JUcWRcZZ6ThV"
   },
   "source": [
    "### ***10.3.1 - The open Function***"
   ]
  },
  {
   "cell_type": "markdown",
   "metadata": {
    "id": "ek6qdGVm6eP9"
   },
   "source": [
    "Before you can read or write a file, you have to open it using Python's built-in open() function. This function creates a file object, which would be utilized to call *methods* (functions that perform operations on the file object).\n",
    "\n",
    "**Syntax**: The syntax for calling the *open()* in Python:\n",
    "\n",
    "```\n",
    "file_object = open(file_name [, access_mode][, buffering])\n",
    "```\n",
    "The parameters (arguments) used with the open() function are as follows:\n",
    "\n",
    "\n",
    "\n",
    "* *file_name*: A string value that contains the name of the file that you want to access.\n",
    "* *access_mode*: This determines the mode in which the file has to be opened, for e.g.,  read, write or append. A complete list of possible mode values are given below in a table. This is an optional parameter and the default file access mode is read (r).\n",
    "* *buffering*: If set to 0, no buffering will take place. If the value is 1, line buffering will be performed while accessing a file. If the value is an integer greater than 1, then buffering action will be performed with the indicated buffer size. If negative, the buffer size is the system default (default behavior). This is an optional parameter.\n",
    "\n",
    "A list of different modes of opening a file is given below.\n",
    "\n",
    "<table align=\"center\">\n",
    " <tr>\n",
    "    <th style=\"text-align:left\">Operator</th>\n",
    "    <th style=\"text-align:left\">Description</th>\n",
    "  </tr>\n",
    "  <tr>\n",
    "      <td align=\"center\" style=\"text-align:left\">r</td>\n",
    "      <td align=\"left\" style=\"text-align:left\">Opens a file for reading only. The file pointer is placed at the beginning of the file. This is the default mode.</td>    \n",
    "  </tr>\n",
    "    <tr>\n",
    "      <td align=\"center\" style=\"text-align:left\">rb</td>\n",
    "      <td align=\"left\" style=\"text-align:left\">Opens a file for reading only in binary format. The file pointer is placed at the beginning of the file. This is the default mode.</td>    \n",
    "  </tr>\n",
    "    <tr>\n",
    "      <td align=\"center\" style=\"text-align:left\">r+</td>\n",
    "      <td align=\"left\" style=\"text-align:left\">Opens a file for both reading and writing. The file pointer will be at the beginning of the file.</td>    \n",
    "  </tr>\n",
    "    <tr>\n",
    "      <td align=\"center\" style=\"text-align:left\">rb+</td>\n",
    "      <td align=\"left\" style=\"text-align:left\">Opens a file for both reading and writing in binary format. The file pointer will be at the beginning of the file.</td>    \n",
    "  </tr>\n",
    "    <tr>\n",
    "      <td align=\"center\" style=\"text-align:left\">w</td>\n",
    "      <td align=\"left\" style=\"text-align:left\">Opens a file for writing only. Overwrites the file if the file exists. If the file does not exist, creates a new file for writing.\n",
    "</td>    \n",
    "  </tr>\n",
    "    <tr>\n",
    "      <td align=\"center\" style=\"text-align:left\">wb</td>\n",
    "      <td align=\"left\" style=\"text-align:left\">Opens a file for writing only in binary format. Overwrites the file if the file exists. If the file does not exist, creates a new file for writing.</td>    \n",
    "  </tr>\n",
    "    <tr>\n",
    "      <td align=\"center\" style=\"text-align:left\">w+</td>\n",
    "      <td align=\"left\" style=\"text-align:left\">Opens a file for both writing and reading. Overwrites the existing file if the file exists. If the file does not exist, creates a new file for reading and writing.</td>    \n",
    "  </tr>\n",
    "    <tr>\n",
    "      <td align=\"center\" style=\"text-align:left\">wb+</td>\n",
    "      <td align=\"left\" style=\"text-align:left\">Opens a file for both writing and reading in binary format. Overwrites the existing file if the file exists. If the file does not exist, creates a new file for reading and writing.</td>    \n",
    "  </tr>\n",
    "    <tr>\n",
    "      <td align=\"center\" style=\"text-align:left\">a</td>\n",
    "      <td align=\"left\" style=\"text-align:left\">Opens a file for appending. The file pointer is at the end of the file if the file exists. That is, the file is in the append mode. If the file does not exist, it creates a new file for writing.</td>    \n",
    "  </tr>\n",
    "    <tr>\n",
    "      <td align=\"center\" style=\"text-align:left\">ab</td>\n",
    "      <td align=\"left\" style=\"text-align:left\">Opens a file for appending in binary format. The file pointer is at the end of the file if the file exists. That is, the file is in the append mode. If the file does not exist, it creates a new file for writing.</td>    \n",
    "  </tr>\n",
    "    <tr>\n",
    "      <td align=\"center\" style=\"text-align:left\">a+</td>\n",
    "      <td align=\"left\" style=\"text-align:left\">Opens a file for both appending and reading. The file pointer is at the end of the file if the file exists. The file opens in the append mode. If the file does not exist, it creates a new file for reading and writing.\n",
    "</td>    \n",
    "  </tr>\n",
    "    <tr>\n",
    "      <td align=\"center\" style=\"text-align:left\">ab+</td>\n",
    "      <td align=\"left\" style=\"text-align:left\">Opens a file for both appending and reading in binary format. The file pointer is at the end of the file if the file exists. The file opens in the append mode. If the file does not exist, it creates a new file for reading and writing.</td>    \n",
    "  </tr>\n",
    "</table>\n",
    "\n",
    "\n",
    "\n",
    "\n"
   ]
  },
  {
   "cell_type": "markdown",
   "metadata": {
    "id": "fw1j0Txmasv2"
   },
   "source": [
    "**Attributes of a file object:**\n",
    "\n",
    "Once a file is opened and you have a *file object* associated with that file, you can get related information (attributes) of that file. Here is a list of attributes of file objects.\n",
    "\n",
    "<table align=\"center\">\n",
    " <tr>\n",
    "    <th style=\"text-align:left\">Attribute</th>\n",
    "    <th style=\"text-align:left\">Description</th>\n",
    "  </tr>\n",
    "  <tr>\n",
    "      <td align=\"center\" style=\"text-align:left\">f.closed</td>\n",
    "      <td align=\"left\" style=\"text-align:left\">Returns True if the file f is closed, False otherwise.</td>    \n",
    "  </tr>\n",
    "  <tr>\n",
    "      <td align=\"center\" style=\"text-align:left\">f.mode</td>\n",
    "      <td align=\"left\" style=\"text-align:left\">Returns the access mode with which file f was opened.</td>    \n",
    "  </tr>\n",
    "  <tr>\n",
    "      <td align=\"center\" style=\"text-align:left\">f.name</td>\n",
    "      <td align=\"left\" style=\"text-align:left\">Returns the name of the file f.</td>    \n",
    "  </tr>\n",
    "</table>\n",
    "\n",
    "Here is an example program that uses these (it requires a file named \"foo.txt\" to exist).\n"
   ]
  },
  {
   "cell_type": "code",
   "execution_count": 19,
   "metadata": {
    "colab": {
     "base_uri": "https://localhost:8080/"
    },
    "id": "nESLak145n0M",
    "outputId": "57e0d71a-6554-40a8-8c7d-0237cb30a56b"
   },
   "outputs": [
    {
     "name": "stdout",
     "output_type": "stream",
     "text": [
      "Name of the file:  foo.txt\n",
      "File closed:  False\n",
      "Opening mode :  wb\n"
     ]
    }
   ],
   "source": [
    "# Program-10.1\n",
    "\n",
    "# Open a file\n",
    "fo = open(\"foo.txt\", \"wb\")\n",
    "print(\"Name of the file: \", fo.name)\n",
    "print(\"File closed: \", fo.closed)\n",
    "print(\"Opening mode : \", fo.mode)"
   ]
  },
  {
   "cell_type": "markdown",
   "metadata": {
    "id": "6_LSUQ0gciHz"
   },
   "source": [
    "### ***10.3.2 - The close Method***"
   ]
  },
  {
   "cell_type": "markdown",
   "metadata": {
    "id": "aqJRDch2ct1r"
   },
   "source": [
    "The* f.close()* method of a file object f flushes any unwritten data and closes the file object, after which no more writing can be done.\n",
    "\n",
    "Python automatically closes a file when its reference object is reassigned to another file. It is a good practice to explicitly close a file using the *close()* method.\n",
    "\n",
    "**Syntax**: The syntax for using the *close()* method of a file object *f* in Python:\n",
    "\n",
    "```\n",
    "f.close()\n",
    "```\n",
    "Here is an example.\n"
   ]
  },
  {
   "cell_type": "code",
   "execution_count": 20,
   "metadata": {
    "colab": {
     "base_uri": "https://localhost:8080/"
    },
    "id": "5QuFMWb1cIg_",
    "outputId": "196e6d83-007f-4f6e-be0f-4f5aaa69a33f"
   },
   "outputs": [
    {
     "name": "stdout",
     "output_type": "stream",
     "text": [
      "Name of the file:  foo.txt\n"
     ]
    }
   ],
   "source": [
    "# Open a file\n",
    "fo = open(\"foo.txt\", \"wb\")\n",
    "print(\"Name of the file: \", fo.name)\n",
    "\n",
    "# Close the file\n",
    "fo.close()"
   ]
  },
  {
   "cell_type": "markdown",
   "metadata": {
    "id": "EqCdNzKedcJ0"
   },
   "source": [
    "## ***10.4 - Reading and Writing Files***\n"
   ]
  },
  {
   "cell_type": "markdown",
   "metadata": {
    "id": "tNYHarCXdjHe"
   },
   "source": [
    "The *file* object provides methods to read and write files, as described below."
   ]
  },
  {
   "cell_type": "markdown",
   "metadata": {
    "id": "lB5b4SORfx7F"
   },
   "source": [
    "### ***10.4.1 - File Reading***"
   ]
  },
  {
   "cell_type": "markdown",
   "metadata": {
    "id": "237MaWHYf3uM"
   },
   "source": [
    "The *f.read()* method reads some quantity of data from an open file object f and returns it as a string. It is important to note that Python strings can have binary data as well, not only text.\n",
    "\n",
    "Syntax: The syntax for using the *read()* method of a file object *f* in Python:\n",
    "\n",
    "```\n",
    "f.read([count])\n",
    "```\n",
    "Here, the optional argument *count* is the maximum number of bytes to be read. This method starts reading from the beginning of the file and at most *count* bytes are read and returned. If *count* is omitted or negative, the entire contents of the file will be read and returned.\n",
    "\n",
    "The *f.readline()* method reads a single line from a file *f*; a newline character ('\\n') is left at the end of the string, and is only omitted on the last line of the file if the file doesn’t end in a newline. If *f.readline()* returns an empty string, the end of the file f has been reached, while a blank line is represented by '\\n', a string containing only a single newline. As in the *f.read()* method, this method too has an optional argument count, which sets a maximum byte count (including the trailing newline) to read; as a result an incomplete line may be returned.\n",
    "\n",
    "For reading lines from a file, we can loop over the file object. This is memory efficient, fast, and leads to simple code. Here is an example in which a file is read and its content output in a loop, a line in each iteration."
   ]
  },
  {
   "cell_type": "code",
   "execution_count": 21,
   "metadata": {
    "id": "FZWDgJz3dR2i"
   },
   "outputs": [],
   "source": [
    "# Program-10.2\n",
    "\n",
    "fo = open(\"foo.txt\", \"r\")\n",
    "for line in fo:\n",
    "    print(line,end='')\n",
    "\n",
    "# Close the file\n",
    "fo.close()"
   ]
  },
  {
   "cell_type": "markdown",
   "metadata": {
    "id": "YfUdYRRSh2h4"
   },
   "source": [
    "It is a good practice to use the ***with*** keyword when dealing with file objects. This has the advantage that the file is properly closed when the ***with*** block finishes, even if an exception is raised on the way. It is also much shorter than writing equivalent ***try-finally*** blocks. \n",
    "\n",
    "The following example program-10.3 shows how the previous program-10.2 can be re-written using the ***with*** keyword."
   ]
  },
  {
   "cell_type": "code",
   "execution_count": 22,
   "metadata": {
    "id": "nZnEZiTOhmTV"
   },
   "outputs": [],
   "source": [
    "# Program-10.3\n",
    "\n",
    "with open(\"foo.txt\", \"r\") as fo:\n",
    "    for line in fo:\n",
    "        print(line)"
   ]
  },
  {
   "cell_type": "markdown",
   "metadata": {
    "id": "Ao_09gEZiUHt"
   },
   "source": [
    "Note that an explicit *fo.close()* is not needed in the above, as the file is automatically closed when the with block is exited."
   ]
  },
  {
   "cell_type": "markdown",
   "metadata": {
    "id": "bULam0iNiXxl"
   },
   "source": [
    "### ***10.4.2 - File Writing***"
   ]
  },
  {
   "cell_type": "markdown",
   "metadata": {
    "id": "K-xVKOkQiexV"
   },
   "source": [
    "The *f.write()* method writes a string to an open file *f*. There is no return value (i.e., it returns None). Due to buffering, the string may not actually show up in the file until the *f.flush()* or *f.close()* method is called. The *f.write()* method does not add a newline character ('\\n') to the end of the string.\n",
    "\n",
    "**Syntax**: The syntax for using the *write()* method of a file object f in Python:\n",
    "\n",
    "```\n",
    "f.write(string)\n",
    "```\n",
    "Here, the argument ‘*string*’ is the string content to be written into the opened file f.\n",
    "\n",
    "Here is an example."
   ]
  },
  {
   "cell_type": "code",
   "execution_count": 23,
   "metadata": {
    "id": "oQbK3SbHiQwG"
   },
   "outputs": [],
   "source": [
    "# Program-10.4\n",
    "# \n",
    "fo = open(\"foobar.txt\", \"w\")\n",
    "fo.write( \"Python is a great language.\\nYeah I love it!\\n\")\n",
    "fo.close()"
   ]
  },
  {
   "cell_type": "markdown",
   "metadata": {
    "id": "WnDE3JfjlPHt"
   },
   "source": [
    "The above would create the *foobar.txt* file, write the given content in that file and finally close that file. If you subsequently open this file, you would see the following content.\n",
    "\n",
    "```\n",
    "Python is a great language.\n",
    "Yeah I love it!\n",
    "```\n",
    "\n"
   ]
  },
  {
   "cell_type": "markdown",
   "metadata": {
    "id": "KAxi_TI9liVu"
   },
   "source": [
    "## ***10.5 - File Positions***"
   ]
  },
  {
   "cell_type": "markdown",
   "metadata": {
    "id": "KA4bv5j1lsmr"
   },
   "source": [
    "The *f.tell()* method tells us the current position within the file f; in other words, the next read or write will occur at that many bytes from the beginning of the file.\n",
    "\n",
    "The *f.seek(offset[,from])* method changes the current file position. The *offset* argument indicates the amount of change by number of bytes. The optional from argument specifies the reference position from where the position is to be changed.\n",
    "\n",
    "If from is set to 0, the beginning of the file is used as the reference position; 1 means use the current position as the reference position; 2 means the end of the file is taken as the reference position.\n",
    "\n",
    "In the following example Program-10.5, the file *foobar.txt* created in Program-10.4 above is used."
   ]
  },
  {
   "cell_type": "code",
   "execution_count": 24,
   "metadata": {
    "colab": {
     "base_uri": "https://localhost:8080/"
    },
    "id": "uRBI46G6lOJS",
    "outputId": "8a3d142a-aaa6-4a28-f715-977eb2b059b5"
   },
   "outputs": [
    {
     "name": "stdout",
     "output_type": "stream",
     "text": [
      "Read string is :  Python is \n",
      "Current file position :  10\n",
      "Again, read string is :  Python is \n"
     ]
    }
   ],
   "source": [
    "# Program-10.5\n",
    "\n",
    "# Open file\n",
    "fo = open(\"foobar.txt\", \"r+\")\n",
    "string = fo.read(10)\n",
    "print(\"Read string is : \", string)\n",
    "\n",
    "# Check current position\n",
    "position = fo.tell()\n",
    "print(\"Current file position : \", position)\n",
    "\n",
    "# Position pointer at the beginning once again\n",
    "position = fo.seek(0, 0)\n",
    "string = fo.read(10)\n",
    "print(\"Again, read string is : \", string)\n",
    "# Close file\n",
    "fo.close()"
   ]
  },
  {
   "cell_type": "markdown",
   "metadata": {
    "id": "-eY85-yooJvZ"
   },
   "source": [
    "## ***10.6 - File and Directory Handling with the \"os\" Module***"
   ]
  },
  {
   "cell_type": "markdown",
   "metadata": {
    "id": "yMQast0_oQ-m"
   },
   "source": [
    "The os module in Python provides many functions that help you perform file and directory processing operations, among others. \n",
    "\n",
    "To use this module you need to import it first and then call the specific functions.\n",
    "\n",
    "Here is an example program that uses the functions in the os module to rename a file, remove (delete) a file and create a directory. "
   ]
  },
  {
   "cell_type": "code",
   "execution_count": 25,
   "metadata": {
    "colab": {
     "base_uri": "https://localhost:8080/",
     "height": 231
    },
    "id": "f0RDnqwfnwc7",
    "outputId": "b66ac6ed-467c-41c1-9f92-19269f5ecec8",
    "scrolled": true
   },
   "outputs": [],
   "source": [
    "# Program-10.6\n",
    "import os\n",
    "\n",
    "# Ensure a text file \"foobar.txt\" exists to make this work\n",
    "\n",
    "# Rename file \"foobar.txt\" as \"test.txt\"\n",
    "os.rename( \"foobar.txt\", \"test.txt\" )\n",
    "\n",
    "# Delete file \"test.txt\"\n",
    "os.remove(\"test.txt\")\n",
    "\n",
    "# Create a directory \"test\"\n",
    "os.mkdir(\"test\")"
   ]
  },
  {
   "cell_type": "markdown",
   "metadata": {},
   "source": [
    "_Note: In order for the above code to work, you will need the \"foobar.txt\" file to exist in the current directory. If you are getting errors, the error description is a good starting point to figure out the error._"
   ]
  }
 ],
 "metadata": {
  "colab": {
   "name": "10 - Handling Files",
   "provenance": []
  },
  "kernelspec": {
   "display_name": "Python 3.10.0 64-bit",
   "language": "python",
   "name": "python3"
  },
  "language_info": {
   "codemirror_mode": {
    "name": "ipython",
    "version": 3
   },
   "file_extension": ".py",
   "mimetype": "text/x-python",
   "name": "python",
   "nbconvert_exporter": "python",
   "pygments_lexer": "ipython3",
   "version": "3.10.0"
  },
  "vscode": {
   "interpreter": {
    "hash": "f828e95a9b9bc7dc8351a34f16a1f350f8657cec2dabd19a6b6b56268dd61f60"
   }
  }
 },
 "nbformat": 4,
 "nbformat_minor": 1
}
