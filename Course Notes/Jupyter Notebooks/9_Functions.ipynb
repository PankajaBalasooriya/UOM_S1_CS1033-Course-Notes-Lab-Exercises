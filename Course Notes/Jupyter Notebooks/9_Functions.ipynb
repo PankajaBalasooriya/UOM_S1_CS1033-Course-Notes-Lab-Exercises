{
 "cells": [
  {
   "cell_type": "markdown",
   "metadata": {},
   "source": [
    "# 9 - Functions"
   ]
  },
  {
   "cell_type": "markdown",
   "metadata": {
    "id": "XJYDpapip6B7"
   },
   "source": [
    "A function is a block of organized, reusable code that is used to perform a single task. Functions are the subprogram control structure in Python (see Section 4.1). Functions provide better modularity for our programs and a high degree of code reuse. \n",
    "\n",
    "Figure 9.1 shows the flow of control when a function is called and returns.\n",
    "\n",
    "![function.PNG](data:image/png;base64,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)\n"
   ]
  },
  {
   "cell_type": "markdown",
   "metadata": {
    "id": "pTkO7Yzcqxgi"
   },
   "source": [
    "As you already know, Python gives you many built-in functions such as <code>print( )</code> or <code>range( )</code>. but you can also create your own functions which are called *user-defined functions*."
   ]
  },
  {
   "cell_type": "markdown",
   "metadata": {
    "id": "EyHQ9akxq9R1"
   },
   "source": [
    "# 9.1  Defining a Function\n",
    "\n",
    "We define functions to provide required functionality. Here are simple rules on functions in Python.\n",
    "\n",
    "\n",
    "\n",
    "*   Function definition begins with the keyword **def** , followed by the function name and parentheses.\n",
    "\n",
    "*   Any input parameters (or arguments) should be placed within these parentheses. You can also define parameters inside these parentheses.\n",
    "\n",
    "\n",
    "*   A colon (:) follows the closing parenthesis, on the same line.\n",
    "*   The *body* of a function starts in the line below and is indented.\n",
    "\n",
    "\n",
    "*   An optional string called the *docstring* within quotes documenting the function can be the first item in the body of the function.\n",
    "\n",
    "*   The statement **return [expression]** exits a function, passing the control back to the caller and optionally passing back an expression to the caller. A **return** statement with no arguments is the same as **return None**. If nothing is to be returned, the return statement may be omitted.\n",
    "\n",
    "Syntax:\n",
    "\n",
    "\n",
    "```\n",
    "def functionname( parameters ):\n",
    "   \"function_docstring\"\n",
    "   function_suite\n",
    "   return [expression]\n",
    "\n",
    "```\n",
    "By default, parameters have a positional behavior; thus when invoking (calling) the function you need to list them in the same order that they were defined.\n",
    "\n",
    "Here is an example Python function that takes a string as input parameter and prints it on screen.\n",
    "\n"
   ]
  },
  {
   "cell_type": "code",
   "execution_count": 5,
   "metadata": {
    "id": "EyzQu6IqrvWd"
   },
   "outputs": [],
   "source": [
    "def printme(string):\n",
    "   #\"This prints a passed string into this function\"\n",
    "   print(string)"
   ]
  },
  {
   "cell_type": "markdown",
   "metadata": {
    "id": "Jp2uSvCmrxny"
   },
   "source": [
    "# 9.2 Calling a Function\n",
    "\n",
    "Defining a function only gives it a name, specifies the parameters that are to be included in the function and structures the blocks of code.\n",
    "\n",
    "Once the function is defined, you can execute it by calling it from your (main) program, another function or directly from the Python prompt. In the following example, we call the printme() function. Note that in this example, the return is optional (the program will work even without the return)."
   ]
  },
  {
   "cell_type": "code",
   "execution_count": 20,
   "metadata": {
    "colab": {
     "base_uri": "https://localhost:8080/"
    },
    "id": "a-mIApm1sATd",
    "outputId": "defc129f-27c3-4445-97f3-ec2e2cfa2934"
   },
   "outputs": [
    {
     "name": "stdout",
     "output_type": "stream",
     "text": [
      "I'm the first call to the user defined function!\n",
      "Again second call to the same function.\n"
     ]
    }
   ],
   "source": [
    "# Program-9.1\n",
    "\n",
    "# Function definition is here\n",
    "def printme(sentence):\n",
    "   '''This prints a passed string into this function'''\n",
    "   print(sentence)\n",
    "\n",
    "# Now you can call printme function\n",
    "printme(\"I'm the first call to the user defined function!\")\n",
    "printme(\"Again second call to the same function.\")"
   ]
  },
  {
   "cell_type": "markdown",
   "metadata": {
    "id": "SI8KPdvssU1G"
   },
   "source": [
    "### *Example 9.1*\n",
    "\n",
    "Write a program to compute the circumference and area of a circle given its radius. Implement computation of circumference and area as separate functions.\n",
    "\n"
   ]
  },
  {
   "cell_type": "code",
   "execution_count": 25,
   "metadata": {
    "colab": {
     "base_uri": "https://localhost:8080/"
    },
    "id": "gscvI6lEsdPz",
    "outputId": "64d7a4f6-340a-4883-a6c5-10c10dfe60bc"
   },
   "outputs": [
    {
     "name": "stdout",
     "output_type": "stream",
     "text": [
      "Enter radius: 3\n",
      "Area :  28.269\n",
      "Circumference :  18.846\n"
     ]
    }
   ],
   "source": [
    "# Program-9.2\t\n",
    "\n",
    "pi = 3.141\n",
    "\n",
    "def area(r):\n",
    "    return (pi*r*r)\n",
    "\n",
    "def circumference(r):\n",
    "    return (2*pi*r)\n",
    "\n",
    "radius = 0.0\n",
    "radius = float(input(\"Enter radius: \"))\n",
    "print(\"Area : \", area(radius))\n",
    "print(\"Circumference : \", circumference(radius))\n"
   ]
  },
  {
   "cell_type": "markdown",
   "metadata": {
    "id": "5p9KHVuosqeF"
   },
   "source": [
    "# 9.3  Parameter Passing\n",
    "\n",
    "In Python, we deal with objects. *Variables* in Python can be more properly called *names* of objects. An *assignment* is the *reference (binding)* of a *name* to an *object*. Each binding has a *scope* that defines its visibility, usually a *block* or *function* in which the name originates. (Scope is discussed in more detail later in sections 9.6 and 9.7).\n",
    "\n",
    "All function parameters (arguments) in the Python language are *passed-by-object-reference*. It means if you change what a parameter refers to within a function, the change can reflect back in the calling function if the reference (binding) was to a mutable object. If we call func(x), we are merely creating a binding within the scope of func to the object that the argument x is bound to when the function is called. If x refers to a mutable object and func changes its value, then these changes can be visible outside of the scope of the function.\n",
    "\n",
    "For example:\n"
   ]
  },
  {
   "cell_type": "code",
   "execution_count": null,
   "metadata": {
    "colab": {
     "base_uri": "https://localhost:8080/"
    },
    "id": "WPaW0hcxtbl9",
    "outputId": "109ed5ef-8713-4997-c610-4a9e97bc81dc"
   },
   "outputs": [
    {
     "name": "stdout",
     "output_type": "stream",
     "text": [
      "Values before calling the function:  [10, 20, 30]\n",
      "Values inside the function:  [5555, 20, 30]\n",
      "Values after and outside the function:  [5555, 20, 30]\n"
     ]
    }
   ],
   "source": [
    "# Program-9.3\n",
    "\n",
    "# Function definition is here\n",
    "def changeme( inlist ):\n",
    "   #\"This changes a passed list into this function\"\n",
    "   inlist[0] = 5555\n",
    "   print(\"Values inside the function: \", inlist)\n",
    "   return\n",
    "\n",
    "# Now you can call changeme function\n",
    "mylist = [10,20,30]\n",
    "print(\"Values before calling the function: \", mylist)\n",
    "changeme( mylist )\n",
    "print(\"Values after and outside the function: \", mylist)\n"
   ]
  },
  {
   "cell_type": "markdown",
   "metadata": {
    "id": "M7JHVciRtpem"
   },
   "source": [
    "The name inlist is a reference (is bound to) in the scope of the function changeme to the list object referenced by name mylist in the program scope. We change the list object (lists are mutable in Python) in the function; it will be visible outside the function resulting in the above output.\n",
    "\n",
    "The following example demonstrates another point. In the function call, the argument mylist is the name bound to a list object; it  is being passed-by-object-reference to the function (therefore the list object is bound to the name inlist within the function scope at the time of function call). "
   ]
  },
  {
   "cell_type": "code",
   "execution_count": null,
   "metadata": {
    "colab": {
     "base_uri": "https://localhost:8080/"
    },
    "id": "1x6NO_qbt9ku",
    "outputId": "6172dd5c-9666-401b-f5d7-226e28cfb4d8"
   },
   "outputs": [
    {
     "name": "stdout",
     "output_type": "stream",
     "text": [
      "Values before calling the function:  [10, 20, 30]\n",
      "Values inside the function:  [1, 2, 3, 4]\n",
      "Values outside the function:  [10, 20, 30]\n"
     ]
    }
   ],
   "source": [
    "# Program-9.4\n",
    "\n",
    "# Function definition is here\n",
    "def changeme( inlist ):\n",
    "   #\"This changes a passed list into this function\"\n",
    "   inlist = [1,2,3,4] # This binds inlist to a new list object\n",
    "   print(\"Values inside the function: \", inlist)\n",
    "   return\n",
    "\n",
    "# Now you can call changeme function\n",
    "mylist = [10,20,30];\n",
    "print(\"Values before calling the function: \", mylist)\n",
    "changeme( mylist )\n",
    "print(\"Values outside the function: \", mylist)\n"
   ]
  },
  {
   "cell_type": "markdown",
   "metadata": {
    "id": "mxyarN3ku3Ee"
   },
   "source": [
    "Changing inlist within the function does not affect mylist. The assignment <code>inlist = [1,2,3,4]</code> binds the name inlist to a new (different) list object and that does not change the original list object bound to mylist outside the function."
   ]
  },
  {
   "cell_type": "markdown",
   "metadata": {
    "id": "lnmk_pMQ7cxD"
   },
   "source": [
    "# 9.4  Function Arguments\n",
    "\n",
    "We can call a function by using the following types of formal arguments.\n",
    "\n",
    "\n",
    "*   Required arguments\n",
    "\n",
    "*   Keyword arguments\n",
    "*   Default arguments\n",
    "\n",
    "*   Variable-length arguments\n",
    "\n"
   ]
  },
  {
   "cell_type": "markdown",
   "metadata": {
    "id": "jSRuNMPG7vPh"
   },
   "source": [
    "### 9.4.1  Required Arguments\n",
    "\n",
    "Required arguments are the arguments passed to a function in correct positional order. Here, the number of arguments in the function call should match exactly with the function definition.\n",
    "\n",
    "To call a function with required arguments, you definitely need to pass those arguments; otherwise it would cause a type error. Here is an example:\n"
   ]
  },
  {
   "cell_type": "code",
   "execution_count": 1,
   "metadata": {
    "colab": {
     "base_uri": "https://localhost:8080/",
     "height": 202
    },
    "executionInfo": {
     "elapsed": 23,
     "status": "error",
     "timestamp": 1628012813059,
     "user": {
      "displayName": "Kalana Wijegunarathna",
      "photoUrl": "https://lh3.googleusercontent.com/a-/AOh14GgdT59S_-QqaCBkCeJPNiakklpbaxsbO9noyndz=s64",
      "userId": "02489838847977846317"
     },
     "user_tz": -330
    },
    "id": "-QILD1FA71kV",
    "outputId": "821091e1-7ca3-42d8-8e9f-145bdf236274"
   },
   "outputs": [
    {
     "ename": "TypeError",
     "evalue": "printme() missing 1 required positional argument: 'string'",
     "output_type": "error",
     "traceback": [
      "\u001b[1;31m---------------------------------------------------------------------------\u001b[0m",
      "\u001b[1;31mTypeError\u001b[0m                                 Traceback (most recent call last)",
      "\u001b[1;32mc:\\Users\\dell pc\\Downloads\\Course Notes\\Jupyter Notebooks\\9_Functions.ipynb Cell 17\u001b[0m in \u001b[0;36m<cell line: 10>\u001b[1;34m()\u001b[0m\n\u001b[0;32m      <a href='vscode-notebook-cell:/c%3A/Users/dell%20pc/Downloads/Course%20Notes/Jupyter%20Notebooks/9_Functions.ipynb#ch0000016?line=6'>7</a>\u001b[0m    \u001b[39mreturn\u001b[39;00m\n\u001b[0;32m      <a href='vscode-notebook-cell:/c%3A/Users/dell%20pc/Downloads/Course%20Notes/Jupyter%20Notebooks/9_Functions.ipynb#ch0000016?line=8'>9</a>\u001b[0m \u001b[39m# Now you can call printme function\u001b[39;00m\n\u001b[1;32m---> <a href='vscode-notebook-cell:/c%3A/Users/dell%20pc/Downloads/Course%20Notes/Jupyter%20Notebooks/9_Functions.ipynb#ch0000016?line=9'>10</a>\u001b[0m printme()\n",
      "\u001b[1;31mTypeError\u001b[0m: printme() missing 1 required positional argument: 'string'"
     ]
    }
   ],
   "source": [
    "# Program-9.5\n",
    "\n",
    "# Function definition is here\n",
    "def printme( string ):\n",
    "   #\"This prints a passed string into this function\"\n",
    "   print(string)\n",
    "   return\n",
    "\n",
    "# Now you can call printme function\n",
    "printme()\n"
   ]
  },
  {
   "cell_type": "markdown",
   "metadata": {
    "id": "2rztjm6r8btk"
   },
   "source": [
    "### 9.4.2  Keyword Arguments\n",
    "\n",
    "When you use keyword arguments in a function call, the caller identifies the arguments by the argument name.\n",
    "\n",
    "This allows you to skip arguments or place them out of order because the Python interpreter is able to use the keywords provided to match the values with parameters. You can also make keyword calls to the printme() function above in the following ways:\n"
   ]
  },
  {
   "cell_type": "code",
   "execution_count": 24,
   "metadata": {
    "colab": {
     "base_uri": "https://localhost:8080/"
    },
    "id": "QiDyyqlw8isi",
    "outputId": "d9925910-5b5c-4a31-be25-e7f1aaf529a8"
   },
   "outputs": [
    {
     "name": "stdout",
     "output_type": "stream",
     "text": [
      "My string\n"
     ]
    }
   ],
   "source": [
    "# Program-9.6\n",
    "# Function definition is here\n",
    "def printme( string ):\n",
    "   #\"This prints a passed string into this function\"\n",
    "   print(string)\n",
    "   return\n",
    "# Now you can call printme function\n",
    "printme( string = \"My string\")\n"
   ]
  },
  {
   "cell_type": "markdown",
   "metadata": {
    "id": "O-RlTI3h8law"
   },
   "source": [
    "The following is another example. Note, that the order of the arguments does not matter."
   ]
  },
  {
   "cell_type": "code",
   "execution_count": 1,
   "metadata": {
    "colab": {
     "base_uri": "https://localhost:8080/"
    },
    "id": "1FCZ5Wgb8xUU",
    "outputId": "5272dff1-2dbf-4c08-bfbf-4faf464c125e"
   },
   "outputs": [
    {
     "name": "stdout",
     "output_type": "stream",
     "text": [
      "Name:  Kumari\n",
      "Age  20\n"
     ]
    }
   ],
   "source": [
    "# Program-9.7\n",
    "# Function definition is here\n",
    "def printinfo( name, age ):\n",
    "   #\"This prints a passed info into this function\"\n",
    "   print(\"Name: \", name)\n",
    "   print(\"Age \", age)\n",
    "   return\n",
    "\n",
    "# Now you can call printinfo function\n",
    "printinfo( age=20, name=\"Kumari\" )\n"
   ]
  },
  {
   "cell_type": "markdown",
   "metadata": {
    "id": "6UuG8QM89A0Y"
   },
   "source": [
    "### 9.4.3  Default Arguments\n",
    "\n",
    "A default argument is an argument that assumes a default value if a value is not provided in the function call for that argument. The following example gives an idea on default arguments; it would print default age if a value for age is not passed.\n"
   ]
  },
  {
   "cell_type": "code",
   "execution_count": 2,
   "metadata": {
    "colab": {
     "base_uri": "https://localhost:8080/"
    },
    "id": "kytb7kAb9JNU",
    "outputId": "64402383-5552-4d4f-e39c-6aaa10893ce6"
   },
   "outputs": [
    {
     "name": "stdout",
     "output_type": "stream",
     "text": [
      "Name:  Kumari\n",
      "Age  20\n",
      "Name:  Kumari\n",
      "Age  25\n"
     ]
    }
   ],
   "source": [
    "# Program-9.8\n",
    "# Function definition is here\n",
    "def printinfo( name, age = 25 ):\n",
    "   #\"This prints a passed info into this function\"\n",
    "   print(\"Name: \", name)\n",
    "   print(\"Age \", age)\n",
    "   return\n",
    "\n",
    "# Now you can call printinfo function\n",
    "printinfo( age=20, name=\"Kumari\" );\n",
    "printinfo( name=\"Kumari\" );"
   ]
  },
  {
   "cell_type": "markdown",
   "metadata": {
    "id": "P8yPYUQt9e-o"
   },
   "source": [
    "### 9.4.4 Variable-Length Arguments\n",
    "\n",
    "You may need to process a function for more arguments than you specified while defining the function. These arguments are called variable-length arguments and are not named in the function definition, unlike required and default arguments.\n",
    "\n",
    "**Syntax**: The general syntax for a function with non-keyword variable-length arguments is:\n",
    "\n",
    "\n",
    "```\n",
    "  def functionname([formal_args,] *var_args_tuple ):\n",
    "    \"function_docstring\"\n",
    "    function_suite\n",
    "    return [expression]\n",
    "```\n",
    "\n",
    "*An asterisk* (*) is placed before the variable name that will hold the values of all non-keyword variable arguments. This tuple remains empty if no additional arguments are specified during the function call. The following is an example.\n"
   ]
  },
  {
   "cell_type": "code",
   "execution_count": 6,
   "metadata": {
    "colab": {
     "base_uri": "https://localhost:8080/"
    },
    "id": "NiTtIQ1p952X",
    "outputId": "a248fb0b-f894-435d-ce8a-0a9bdffb73a7"
   },
   "outputs": [
    {
     "name": "stdout",
     "output_type": "stream",
     "text": [
      "Output is: \n",
      "arg1:  10\n",
      "Output is: \n",
      "arg1:  70\n",
      "60\n",
      "50\n"
     ]
    }
   ],
   "source": [
    "# Program-9.9\n",
    "\n",
    "# Function definition is here\n",
    "def printinfo( arg1, *vartuple ):\n",
    "   #\"This prints a variable passed arguments\"\n",
    "    print(\"Output is: \")\n",
    "    print(\"arg1: \", arg1)\n",
    "    for var in vartuple:\n",
    "        print(var)\n",
    "    return\n",
    "\n",
    "# Now you can call printinfo function\n",
    "printinfo( 10 )\n",
    "printinfo( 70, 60, 50 )\n"
   ]
  },
  {
   "cell_type": "markdown",
   "metadata": {
    "id": "9l-OCi48-KPg"
   },
   "source": [
    "# 9.5  The *return* Statement\n",
    "\n",
    "The statement return [expression] exits a function, optionally passing back an expression to the caller. A return statement with no arguments is the same as return None.\n",
    "\n",
    "None of the examples so far return any value, but if you like you can return a value from a function as shown in the following example.\n"
   ]
  },
  {
   "cell_type": "code",
   "execution_count": null,
   "metadata": {
    "colab": {
     "base_uri": "https://localhost:8080/"
    },
    "id": "skuRLmQX-Tak",
    "outputId": "c4f77f1d-047a-47a8-d3d2-5b675ddf7154",
    "scrolled": true
   },
   "outputs": [
    {
     "name": "stdout",
     "output_type": "stream",
     "text": [
      "Inside the function :  30\n",
      "Outside the function :  30\n"
     ]
    }
   ],
   "source": [
    "# Program-9.10\n",
    "\n",
    "# Function definition is here\n",
    "def sum( arg1, arg2 ):\n",
    "   # \"Add both the parameters and return them.\"\n",
    "   total = arg1 + arg2\n",
    "   print(\"Inside the function : \", total)\n",
    "   return total\n",
    "\n",
    "# Now you can call sum function\n",
    "total = sum( 10, 20 )\n",
    "print(\"Outside the function : \", total)\n"
   ]
  },
  {
   "cell_type": "markdown",
   "metadata": {
    "id": "MdP-K8PZ-kSC"
   },
   "source": [
    "### *Exercise 9.1* \n",
    "What would be the output of the following code segment: 10 , 100 or 110 ?\n",
    "\n",
    "\n",
    "\n",
    "```\n",
    "    def passValue( a ):\n",
    "      a=100\n",
    "      return \n",
    "\n",
    "    x=10\n",
    "    passValue(x)\n",
    "    print(x)\n",
    "\n",
    "```\n",
    "\n",
    "\n"
   ]
  },
  {
   "cell_type": "code",
   "execution_count": 5,
   "metadata": {},
   "outputs": [],
   "source": [
    "# Try Exercise 9.1 here with different values.\n"
   ]
  },
  {
   "cell_type": "markdown",
   "metadata": {
    "id": "2_I3k8LI-8e9"
   },
   "source": [
    "# 9.6 Scope of Variables\n",
    "\n",
    "All variables in a program may not be accessible at all locations in that program. This depends on where you declare a variable.\n",
    "\n",
    "The *scope of a variable* determines the portion of the program where you can access the particular variable. There are two basic scopes of variables in Python:\n",
    "\n",
    "\n",
    "*   Global variables\n",
    "\n",
    "*  Local variables\n"
   ]
  },
  {
   "cell_type": "markdown",
   "metadata": {
    "id": "a5pMQvbn_KlD"
   },
   "source": [
    "# 9.7 Global vs. Local Variables\n",
    "\n",
    "Variables that are defined inside a function body (local variables) have a local scope, and those defined outside (global variables) have a global scope. \n",
    "\n",
    "You can write to (assign a value to) a global variable in a function by declaring it as global in the function. Python assumes that any name that is assigned to, anywhere within a function, is local to that function unless explicitly told otherwise using the keyword global.  If the function is only reading from a name, and the name doesn't exist locally, it will try to look up the name in any containing scopes (e.g. the global scope).\n",
    "\n",
    "This means that local variables can be accessed only inside the function in which they are declared, whereas global variables can be accessed throughout the program body by all functions. When you call a function, the variables declared inside it are brought into scope. Following is a simple example:\n"
   ]
  },
  {
   "cell_type": "code",
   "execution_count": null,
   "metadata": {
    "colab": {
     "base_uri": "https://localhost:8080/"
    },
    "id": "q0Ta4E4l_a1u",
    "outputId": "231fe5c5-5fa4-4c16-e42b-c073d255a7a5"
   },
   "outputs": [
    {
     "name": "stdout",
     "output_type": "stream",
     "text": [
      "Inside the function local total :  30\n",
      "Outside the function global total :  0\n"
     ]
    }
   ],
   "source": [
    "# Program-9.11\n",
    "\n",
    "total = 0 \t# This is global variable.\n",
    "# Function definition is here\n",
    "def sum( arg1, arg2 ):\n",
    "   # Add both the parameters and return them.\"\n",
    "   total = arg1 + arg2 \t# Here total is a local variable.\n",
    "   print(\"Inside the function local total : \", total)\n",
    "   return total\n",
    "\n",
    "# Now you can call sum function\n",
    "sum( 10, 20 )\n",
    "print(\"Outside the function global total : \", total)\n"
   ]
  },
  {
   "cell_type": "markdown",
   "metadata": {
    "id": "yPyWYZ95_qbM"
   },
   "source": [
    "In the above function sum(), if there was a line “**global total**” before the line “total = arg1 + arg2”, then the program output will have 30 in both cases."
   ]
  },
  {
   "cell_type": "markdown",
   "metadata": {
    "id": "QaYdqwUk_zZp"
   },
   "source": [
    "### *Exercise 9.2*\n",
    "\n",
    "Predict the output of each print statement in Program-9.12. \n",
    "\n",
    "\n",
    "```\n",
    "    # Program-9.12\n",
    "\n",
    "    a = 5\n",
    "    def swap1(x,y):\n",
    "        z=x\n",
    "        x=y\n",
    "        y=z\n",
    "        return None\n",
    "    def swap2(x):\n",
    "        global a\n",
    "        z=x\n",
    "        x=a\n",
    "        a=z\n",
    "        return None\n",
    "        \n",
    "    b =10\n",
    "    c =15\n",
    "    print(\"Value before 1st function a = \", a,\" b = \",b,\" c = \",c)\n",
    "    swap1(b,c)\n",
    "    print(\"Value after 1st function a = \", a,\" b = \",b,\" c = \",c)\n",
    "    swap2(b)\n",
    "    print(\"Value after 2nd function a = \", a,\" b = \",b,\" c = \",c)\n",
    "    print(\"Test\")\n",
    "\n",
    "```"
   ]
  },
  {
   "cell_type": "markdown",
   "metadata": {
    "id": "90xV6ko8Fom0"
   },
   "source": [
    "### *Exercise 9.2*\n",
    "\n",
    "Write a function that can find and return all the even numbers in a list of numbers and return it as a list. For example, if [2,4,6,5,3,8,1] is the input, the output will be [2,4,6,8].\n"
   ]
  },
  {
   "cell_type": "code",
   "execution_count": null,
   "metadata": {
    "id": "H1s_XPUBFwXC"
   },
   "outputs": [],
   "source": [
    "# Try Exercise 9.2 here\n",
    "\n"
   ]
  }
 ],
 "metadata": {
  "colab": {
   "name": "9 -Functions.ipynb",
   "provenance": []
  },
  "kernelspec": {
   "display_name": "Python 3.10.0 64-bit",
   "language": "python",
   "name": "python3"
  },
  "language_info": {
   "codemirror_mode": {
    "name": "ipython",
    "version": 3
   },
   "file_extension": ".py",
   "mimetype": "text/x-python",
   "name": "python",
   "nbconvert_exporter": "python",
   "pygments_lexer": "ipython3",
   "version": "3.10.0"
  },
  "vscode": {
   "interpreter": {
    "hash": "f828e95a9b9bc7dc8351a34f16a1f350f8657cec2dabd19a6b6b56268dd61f60"
   }
  }
 },
 "nbformat": 4,
 "nbformat_minor": 1
}
