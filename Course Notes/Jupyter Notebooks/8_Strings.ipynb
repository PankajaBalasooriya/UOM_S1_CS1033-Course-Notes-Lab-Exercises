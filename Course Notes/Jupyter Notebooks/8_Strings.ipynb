{
 "cells": [
  {
   "cell_type": "markdown",
   "metadata": {
    "id": "fK11r67dpCoW"
   },
   "source": [
    "## 8 - Strings"
   ]
  },
  {
   "cell_type": "markdown",
   "metadata": {
    "id": "qH89sM5ApIsd"
   },
   "source": [
    "## ***8.1 - Introduction***"
   ]
  },
  {
   "cell_type": "markdown",
   "metadata": {
    "id": "bLwIQetVpOPT"
   },
   "source": [
    "Strings are amongst the most popular types in Python. We can create them simply by enclosing characters in quotes. Python treats single quotes ' ' the same as double quotes \" \".\n",
    "\n",
    "Creating strings is as simple as assigning a value to a variable. For example:\n",
    "\n",
    "```\n",
    "var1 = 'Hello World!'\n",
    "var2 = \"Python Programming\"\n",
    "```"
   ]
  },
  {
   "cell_type": "markdown",
   "metadata": {},
   "source": [
    "Strings can be concatenated (glued together) with the + operator, and repeated with *. This is another way to create new strings. For example:"
   ]
  },
  {
   "cell_type": "code",
   "execution_count": 3,
   "metadata": {
    "colab": {
     "base_uri": "https://localhost:8080/",
     "height": 35
    },
    "id": "5sUgIeIeo91P",
    "outputId": "6edf6087-6daa-4db5-8428-65382ceeb6bc"
   },
   "outputs": [
    {
     "data": {
      "text/plain": [
       "'HelpA'"
      ]
     },
     "execution_count": 3,
     "metadata": {},
     "output_type": "execute_result"
    }
   ],
   "source": [
    "word = 'Help' + 'A'\n",
    "word"
   ]
  },
  {
   "cell_type": "code",
   "execution_count": 2,
   "metadata": {
    "colab": {
     "base_uri": "https://localhost:8080/",
     "height": 35
    },
    "id": "jdTC5Mpeprdb",
    "outputId": "115b5fc1-2960-4fda-9910-5c655a68c821"
   },
   "outputs": [
    {
     "data": {
      "application/vnd.google.colaboratory.intrinsic+json": {
       "type": "string"
      },
      "text/plain": [
       "'<HelpAHelpAHelpAHelpAHelpA>'"
      ]
     },
     "execution_count": 2,
     "metadata": {
      "tags": []
     },
     "output_type": "execute_result"
    }
   ],
   "source": [
    "'<' + word*5 + '>'"
   ]
  },
  {
   "cell_type": "markdown",
   "metadata": {
    "id": "GVv6pfDKpxsO"
   },
   "source": [
    "Two string literals next to each other are automatically concatenated. The first line above could also have been written as  <code>word = 'Help' 'A' </code>"
   ]
  },
  {
   "cell_type": "markdown",
   "metadata": {
    "id": "oYxh9NC_p7Ve"
   },
   "source": [
    "## ***8.2 - Accessing Elements and Slicing***\n",
    "\n"
   ]
  },
  {
   "cell_type": "markdown",
   "metadata": {
    "id": "Sa4P5m2jqH_m"
   },
   "source": [
    "Python does not support a character type; these are treated as strings of length one, thus also considered a substring. Individual elements can be accessed with an index. Substrings can be specified with the *slice notation*: two indices separated by a colon. \n",
    "\n",
    "Some examples:"
   ]
  },
  {
   "cell_type": "code",
   "execution_count": 23,
   "metadata": {
    "colab": {
     "base_uri": "https://localhost:8080/",
     "height": 35
    },
    "id": "NUW8q4vMciYp",
    "outputId": "3dcb5d58-8139-44a6-cfdb-5ec197d66001"
   },
   "outputs": [
    {
     "data": {
      "application/vnd.google.colaboratory.intrinsic+json": {
       "type": "string"
      },
      "text/plain": [
       "'A'"
      ]
     },
     "execution_count": 23,
     "metadata": {
      "tags": []
     },
     "output_type": "execute_result"
    }
   ],
   "source": [
    "word = 'Help' + 'A'\n",
    "word[4]"
   ]
  },
  {
   "cell_type": "code",
   "execution_count": 24,
   "metadata": {
    "colab": {
     "base_uri": "https://localhost:8080/",
     "height": 35
    },
    "id": "nIqeiXakcmWM",
    "outputId": "b767720d-7879-4d64-f13b-e0f6f19b9b02"
   },
   "outputs": [
    {
     "data": {
      "application/vnd.google.colaboratory.intrinsic+json": {
       "type": "string"
      },
      "text/plain": [
       "'He'"
      ]
     },
     "execution_count": 24,
     "metadata": {
      "tags": []
     },
     "output_type": "execute_result"
    }
   ],
   "source": [
    "word[0:2]"
   ]
  },
  {
   "cell_type": "code",
   "execution_count": 25,
   "metadata": {
    "colab": {
     "base_uri": "https://localhost:8080/",
     "height": 35
    },
    "id": "122bo1tScmz9",
    "outputId": "fd7ea92f-d981-42b3-b558-4117835ac06d"
   },
   "outputs": [
    {
     "data": {
      "application/vnd.google.colaboratory.intrinsic+json": {
       "type": "string"
      },
      "text/plain": [
       "'He'"
      ]
     },
     "execution_count": 25,
     "metadata": {
      "tags": []
     },
     "output_type": "execute_result"
    }
   ],
   "source": [
    "word[0:2]"
   ]
  },
  {
   "cell_type": "markdown",
   "metadata": {
    "id": "rt2oSde6cgKF"
   },
   "source": [
    "Slice indices have useful defaults: an omitted first index defaults to zero, an omitted second index defaults to the size of the string being sliced. \n",
    "\n",
    "Indices may be negative numbers, to start counting from the right. Continuing from previous example:"
   ]
  },
  {
   "cell_type": "code",
   "execution_count": 3,
   "metadata": {
    "colab": {
     "base_uri": "https://localhost:8080/",
     "height": 35
    },
    "id": "8k1btMutpvan",
    "outputId": "985dc5dd-0175-4300-a5e2-e964d56c783c"
   },
   "outputs": [
    {
     "data": {
      "application/vnd.google.colaboratory.intrinsic+json": {
       "type": "string"
      },
      "text/plain": [
       "'A'"
      ]
     },
     "execution_count": 3,
     "metadata": {
      "tags": []
     },
     "output_type": "execute_result"
    }
   ],
   "source": [
    "word[-1]"
   ]
  },
  {
   "cell_type": "code",
   "execution_count": 4,
   "metadata": {
    "colab": {
     "base_uri": "https://localhost:8080/",
     "height": 35
    },
    "id": "7HE4MS-mufMs",
    "outputId": "610e59bf-6167-4f2e-d34c-c5f6097185e5"
   },
   "outputs": [
    {
     "data": {
      "application/vnd.google.colaboratory.intrinsic+json": {
       "type": "string"
      },
      "text/plain": [
       "'p'"
      ]
     },
     "execution_count": 4,
     "metadata": {
      "tags": []
     },
     "output_type": "execute_result"
    }
   ],
   "source": [
    "word[-2]  "
   ]
  },
  {
   "cell_type": "code",
   "execution_count": 5,
   "metadata": {
    "colab": {
     "base_uri": "https://localhost:8080/",
     "height": 35
    },
    "id": "e3s0SIRpuhQq",
    "outputId": "2cf751d8-2d05-4a7d-9b51-ea1528fdacbb"
   },
   "outputs": [
    {
     "data": {
      "application/vnd.google.colaboratory.intrinsic+json": {
       "type": "string"
      },
      "text/plain": [
       "'pA'"
      ]
     },
     "execution_count": 5,
     "metadata": {
      "tags": []
     },
     "output_type": "execute_result"
    }
   ],
   "source": [
    "word[-2:] "
   ]
  },
  {
   "cell_type": "code",
   "execution_count": 6,
   "metadata": {
    "colab": {
     "base_uri": "https://localhost:8080/",
     "height": 35
    },
    "id": "zUS5izrQukdP",
    "outputId": "665045da-03c2-436d-daf7-5753e3ec6b7d"
   },
   "outputs": [
    {
     "data": {
      "application/vnd.google.colaboratory.intrinsic+json": {
       "type": "string"
      },
      "text/plain": [
       "'Hel'"
      ]
     },
     "execution_count": 6,
     "metadata": {
      "tags": []
     },
     "output_type": "execute_result"
    }
   ],
   "source": [
    "word[:-2]  "
   ]
  },
  {
   "cell_type": "markdown",
   "metadata": {
    "id": "AMMbjrg9uvrX"
   },
   "source": [
    "The following is an example program with strings."
   ]
  },
  {
   "cell_type": "code",
   "execution_count": 26,
   "metadata": {
    "colab": {
     "base_uri": "https://localhost:8080/"
    },
    "id": "c6L9R1BZum-t",
    "outputId": "2cdbf55c-38ae-4479-b426-930c4b9cea60"
   },
   "outputs": [
    {
     "name": "stdout",
     "output_type": "stream",
     "text": [
      "var1[0]:  H\n",
      "var2[1:5]:  ytho\n"
     ]
    }
   ],
   "source": [
    "# Program-8.1\n",
    "\n",
    "var1 = 'Hello World!'\n",
    "var2 = \"Python Programming\"\n",
    "print(\"var1[0]: \", var1[0])\n",
    "print(\"var2[1:5]: \", var2[1:5])"
   ]
  },
  {
   "cell_type": "markdown",
   "metadata": {
    "id": "TDDJMMq5vHbB"
   },
   "source": [
    "## **8.3 - Can We Update Strings?**"
   ]
  },
  {
   "cell_type": "markdown",
   "metadata": {
    "id": "PS0ecLrTvOBo"
   },
   "source": [
    "Python strings are *immutable*, i.e., *cannot be changed*. Assigning to an indexed position in a string results in an error, as shown below."
   ]
  },
  {
   "cell_type": "code",
   "execution_count": 1,
   "metadata": {
    "colab": {
     "base_uri": "https://localhost:8080/",
     "height": 180
    },
    "id": "YOY_60jtu2Yj",
    "outputId": "23db5272-4f99-4f14-c4bc-4cfbf2f26fce",
    "scrolled": true
   },
   "outputs": [
    {
     "ename": "TypeError",
     "evalue": "'str' object does not support item assignment",
     "output_type": "error",
     "traceback": [
      "\u001b[1;31m---------------------------------------------------------------------------\u001b[0m",
      "\u001b[1;31mTypeError\u001b[0m                                 Traceback (most recent call last)",
      "\u001b[1;32mc:\\Users\\dell pc\\Downloads\\Course Notes\\Jupyter Notebooks\\8_Strings.ipynb Cell 22\u001b[0m in \u001b[0;36m<cell line: 2>\u001b[1;34m()\u001b[0m\n\u001b[0;32m      <a href='vscode-notebook-cell:/c%3A/Users/dell%20pc/Downloads/Course%20Notes/Jupyter%20Notebooks/8_Strings.ipynb#ch0000021?line=0'>1</a>\u001b[0m word \u001b[39m=\u001b[39m \u001b[39m'\u001b[39m\u001b[39mHelp\u001b[39m\u001b[39m'\u001b[39m \u001b[39m+\u001b[39m \u001b[39m'\u001b[39m\u001b[39mA\u001b[39m\u001b[39m'\u001b[39m\n\u001b[1;32m----> <a href='vscode-notebook-cell:/c%3A/Users/dell%20pc/Downloads/Course%20Notes/Jupyter%20Notebooks/8_Strings.ipynb#ch0000021?line=1'>2</a>\u001b[0m word[\u001b[39m0\u001b[39;49m] \u001b[39m=\u001b[39m \u001b[39m'\u001b[39m\u001b[39mx\u001b[39m\u001b[39m'\u001b[39m\n",
      "\u001b[1;31mTypeError\u001b[0m: 'str' object does not support item assignment"
     ]
    }
   ],
   "source": [
    "word = 'Help' + 'A'\n",
    "word[0] = 'x'"
   ]
  },
  {
   "cell_type": "code",
   "execution_count": 2,
   "metadata": {},
   "outputs": [
    {
     "ename": "TypeError",
     "evalue": "'str' object does not support item assignment",
     "output_type": "error",
     "traceback": [
      "\u001b[1;31m---------------------------------------------------------------------------\u001b[0m",
      "\u001b[1;31mTypeError\u001b[0m                                 Traceback (most recent call last)",
      "\u001b[1;32mc:\\Users\\dell pc\\Downloads\\Course Notes\\Jupyter Notebooks\\8_Strings.ipynb Cell 23\u001b[0m in \u001b[0;36m<cell line: 1>\u001b[1;34m()\u001b[0m\n\u001b[1;32m----> <a href='vscode-notebook-cell:/c%3A/Users/dell%20pc/Downloads/Course%20Notes/Jupyter%20Notebooks/8_Strings.ipynb#ch0000022?line=0'>1</a>\u001b[0m word[:\u001b[39m1\u001b[39;49m] \u001b[39m=\u001b[39m \u001b[39m'\u001b[39m\u001b[39mSplat\u001b[39m\u001b[39m'\u001b[39m\n",
      "\u001b[1;31mTypeError\u001b[0m: 'str' object does not support item assignment"
     ]
    }
   ],
   "source": [
    "word[:1] = 'Splat'"
   ]
  },
  {
   "cell_type": "markdown",
   "metadata": {
    "id": "hbf3U3o3v49L"
   },
   "source": [
    "However, creating a new string with the combined content is easy and efficient, as shown below."
   ]
  },
  {
   "cell_type": "code",
   "execution_count": 3,
   "metadata": {
    "colab": {
     "base_uri": "https://localhost:8080/",
     "height": 35
    },
    "id": "Ses1IGsnwALY",
    "outputId": "c3f81bb3-36ab-4869-8267-26394697dc1c"
   },
   "outputs": [
    {
     "data": {
      "text/plain": [
       "'xelpA'"
      ]
     },
     "execution_count": 3,
     "metadata": {},
     "output_type": "execute_result"
    }
   ],
   "source": [
    "'x' + word[1:]"
   ]
  },
  {
   "cell_type": "code",
   "execution_count": 4,
   "metadata": {
    "colab": {
     "base_uri": "https://localhost:8080/",
     "height": 35
    },
    "id": "wnnUxv8TwCzI",
    "outputId": "3a2fbf6d-9bab-4f37-8d80-d94678700637"
   },
   "outputs": [
    {
     "data": {
      "text/plain": [
       "'SplatA'"
      ]
     },
     "execution_count": 4,
     "metadata": {},
     "output_type": "execute_result"
    }
   ],
   "source": [
    "'Splat' + word[4]"
   ]
  },
  {
   "cell_type": "markdown",
   "metadata": {
    "id": "lozyxT7e0bvz"
   },
   "source": [
    "Strings are immutable does not mean we cannot assign a new (separate) string “xyz” to an existing variable which is now assigned a string “pqr”. That means, we can \"update\" an existing variable, which now has a string value, by (re)assigning it another string. The new value can be related to its previous value or to a completely different string altogether.\n",
    "\n",
    "The following explains this."
   ]
  },
  {
   "cell_type": "code",
   "execution_count": 6,
   "metadata": {
    "colab": {
     "base_uri": "https://localhost:8080/",
     "height": 35
    },
    "id": "XCdXqo3uwE-b",
    "outputId": "28266947-7402-412b-eb44-38072fcf6aa5"
   },
   "outputs": [
    {
     "data": {
      "text/plain": [
       "'pqr'"
      ]
     },
     "execution_count": 6,
     "metadata": {},
     "output_type": "execute_result"
    }
   ],
   "source": [
    "str1 = \"pqr\"\n",
    "str2 = str1\n",
    "str2"
   ]
  },
  {
   "cell_type": "code",
   "execution_count": 7,
   "metadata": {
    "colab": {
     "base_uri": "https://localhost:8080/",
     "height": 163
    },
    "id": "tC-aNjin2gpj",
    "outputId": "5808605c-aedc-4c68-9e5f-93a968bf3c4a"
   },
   "outputs": [
    {
     "ename": "TypeError",
     "evalue": "'str' object does not support item assignment",
     "output_type": "error",
     "traceback": [
      "\u001b[1;31m---------------------------------------------------------------------------\u001b[0m",
      "\u001b[1;31mTypeError\u001b[0m                                 Traceback (most recent call last)",
      "\u001b[1;32mc:\\Users\\dell pc\\Downloads\\Course Notes\\Jupyter Notebooks\\8_Strings.ipynb Cell 29\u001b[0m in \u001b[0;36m<cell line: 1>\u001b[1;34m()\u001b[0m\n\u001b[1;32m----> <a href='vscode-notebook-cell:/c%3A/Users/dell%20pc/Downloads/Course%20Notes/Jupyter%20Notebooks/8_Strings.ipynb#ch0000028?line=0'>1</a>\u001b[0m str1[\u001b[39m0\u001b[39;49m]\u001b[39m=\u001b[39m\u001b[39m\"\u001b[39m\u001b[39mx\u001b[39m\u001b[39m\"\u001b[39m\n",
      "\u001b[1;31mTypeError\u001b[0m: 'str' object does not support item assignment"
     ]
    }
   ],
   "source": [
    "str1[0]=\"x\""
   ]
  },
  {
   "cell_type": "code",
   "execution_count": 13,
   "metadata": {
    "colab": {
     "base_uri": "https://localhost:8080/",
     "height": 35
    },
    "id": "8jXhEdl82jg6",
    "outputId": "46c98679-9e80-4596-a1bc-ae987779c769"
   },
   "outputs": [
    {
     "data": {
      "application/vnd.google.colaboratory.intrinsic+json": {
       "type": "string"
      },
      "text/plain": [
       "'pqr'"
      ]
     },
     "execution_count": 13,
     "metadata": {
      "tags": []
     },
     "output_type": "execute_result"
    }
   ],
   "source": [
    "str1"
   ]
  },
  {
   "cell_type": "code",
   "execution_count": 15,
   "metadata": {
    "colab": {
     "base_uri": "https://localhost:8080/",
     "height": 35
    },
    "id": "_znDO6K32mkd",
    "outputId": "5779e82b-1a1d-40e2-fc38-7737d28bfd7e"
   },
   "outputs": [
    {
     "data": {
      "application/vnd.google.colaboratory.intrinsic+json": {
       "type": "string"
      },
      "text/plain": [
       "'xyz'"
      ]
     },
     "execution_count": 15,
     "metadata": {
      "tags": []
     },
     "output_type": "execute_result"
    }
   ],
   "source": [
    "str1=\"xyz\"\n",
    "str1"
   ]
  },
  {
   "cell_type": "code",
   "execution_count": 16,
   "metadata": {
    "colab": {
     "base_uri": "https://localhost:8080/",
     "height": 35
    },
    "id": "YHpdw6Hg2pgy",
    "outputId": "af56bdf5-64e3-4d62-b1e9-b52dcca1e8c2"
   },
   "outputs": [
    {
     "data": {
      "application/vnd.google.colaboratory.intrinsic+json": {
       "type": "string"
      },
      "text/plain": [
       "'pqr'"
      ]
     },
     "execution_count": 16,
     "metadata": {
      "tags": []
     },
     "output_type": "execute_result"
    }
   ],
   "source": [
    "str2"
   ]
  },
  {
   "cell_type": "code",
   "execution_count": 18,
   "metadata": {
    "colab": {
     "base_uri": "https://localhost:8080/",
     "height": 35
    },
    "id": "xTqvVPSM2vv8",
    "outputId": "6605d356-6455-4957-fad2-1ffac328ce98"
   },
   "outputs": [
    {
     "data": {
      "application/vnd.google.colaboratory.intrinsic+json": {
       "type": "string"
      },
      "text/plain": [
       "'pqr'"
      ]
     },
     "execution_count": 18,
     "metadata": {
      "tags": []
     },
     "output_type": "execute_result"
    }
   ],
   "source": [
    "a = str2\n",
    "a"
   ]
  },
  {
   "cell_type": "code",
   "execution_count": 19,
   "metadata": {
    "colab": {
     "base_uri": "https://localhost:8080/"
    },
    "id": "NkLt4NEP20Rc",
    "outputId": "7bbe60a9-8bd2-4eec-f548-1eafa49a62ee"
   },
   "outputs": [
    {
     "data": {
      "text/plain": [
       "140191142840688"
      ]
     },
     "execution_count": 19,
     "metadata": {
      "tags": []
     },
     "output_type": "execute_result"
    }
   ],
   "source": [
    "id(a)"
   ]
  },
  {
   "cell_type": "code",
   "execution_count": 20,
   "metadata": {
    "colab": {
     "base_uri": "https://localhost:8080/"
    },
    "id": "WHwRlwNE24uT",
    "outputId": "dc955575-bd7b-4434-81f9-da3f34e1dd2b"
   },
   "outputs": [
    {
     "data": {
      "text/plain": [
       "140191142840688"
      ]
     },
     "execution_count": 20,
     "metadata": {
      "tags": []
     },
     "output_type": "execute_result"
    }
   ],
   "source": [
    "id(str2)"
   ]
  },
  {
   "cell_type": "code",
   "execution_count": 21,
   "metadata": {
    "colab": {
     "base_uri": "https://localhost:8080/"
    },
    "id": "_ymesJyX27wS",
    "outputId": "fe8e2bcf-1a00-4a20-c755-c0364fc44b20"
   },
   "outputs": [
    {
     "data": {
      "text/plain": [
       "140191238860272"
      ]
     },
     "execution_count": 21,
     "metadata": {
      "tags": []
     },
     "output_type": "execute_result"
    }
   ],
   "source": [
    "id(str1)"
   ]
  },
  {
   "cell_type": "markdown",
   "metadata": {
    "id": "wZ_JXEly3X2j"
   },
   "source": [
    "As shown above, we can use the built-in function *id()* to check if two variables refer to the same thing. The *id()* function returns the identity of an object. This is an integer (or long integer) which is guaranteed to be unique and constant for an object during its lifetime. Two objects may have the same *id()* value, because it is the address of an object in memory."
   ]
  },
  {
   "cell_type": "markdown",
   "metadata": {
    "id": "LdhLQkoY33OU"
   },
   "source": [
    "## ***8.4 - Escape Characters***\n"
   ]
  },
  {
   "cell_type": "markdown",
   "metadata": {
    "id": "nA4IIMWS4CSK"
   },
   "source": [
    "Following table shows a list of escape or non-printable characters that can be represented with backslash notation. An escape character gets interpreted in single quoted as well as double quoted strings.\n"
   ]
  },
  {
   "cell_type": "markdown",
   "metadata": {
    "id": "SrZLjQaP4Isy"
   },
   "source": [
    "<table align=\"center\">\n",
    " <tr>\n",
    "    <th style=\"text-align:left\">Backslash notation</th>\n",
    "    <th style=\"text-align:left\">Hexadecimal character</th>\n",
    "    <th style=\"text-align:left\">Description</th>\n",
    "  </tr>\n",
    "  <tr>\n",
    "      <td style=\"text-align:left\">\\a</td>\n",
    "      <td style=\"text-align:left\">0x07</td>    \n",
    "      <td style=\"text-align:left\">Bell or alert</td>    \n",
    "  </tr>\n",
    "    <tr>\n",
    "      <td align=\"center\" style=\"text-align:left\">\\b</td>\n",
    "      <td align=\"left\" style=\"text-align:left\">0x08</td>    \n",
    "      <td align=\"left\" style=\"text-align:left\">Backspace</td>    \n",
    "  </tr>\n",
    "    <tr>\n",
    "      <td align=\"center\" style=\"text-align:left\">\\cx</td>\n",
    "      <td align=\"left\" style=\"text-align:left\"></td>    \n",
    "      <td align=\"left\" style=\"text-align:left\">Control-x</td>    \n",
    "  </tr>\n",
    "    <tr>\n",
    "      <td align=\"center\" style=\"text-align:left\">\\C-x</td>\n",
    "      <td align=\"left\" style=\"text-align:left\"></td>    \n",
    "      <td align=\"left\" style=\"text-align:left\">Control-x</td>    \n",
    "  </tr>\n",
    "    <tr>\n",
    "      <td align=\"center\" style=\"text-align:left\">\\e</td>\n",
    "      <td align=\"left\" style=\"text-align:left\">0x1b</td>    \n",
    "      <td align=\"left\" style=\"text-align:left\">Escape</td>    \n",
    "  </tr>\n",
    "    <tr>\n",
    "      <td align=\"center\" style=\"text-align:left\">\\f</td>\n",
    "      <td align=\"left\" style=\"text-align:left\">0x0c</td>    \n",
    "      <td align=\"left\" style=\"text-align:left\">Formfeed</td>    \n",
    "  </tr>\n",
    "    <tr>\n",
    "      <td align=\"center\" style=\"text-align:left\">\\M-\\C-x</td>\n",
    "      <td align=\"left\" style=\"text-align:left\"></td>    \n",
    "      <td align=\"left\" style=\"text-align:left\">Meta-Control-x</td>    \n",
    "  </tr>\n",
    "    <tr>\n",
    "      <td align=\"center\" style=\"text-align:left\">\\n</td>\n",
    "      <td align=\"left\" style=\"text-align:left\">0x0a</td>    \n",
    "      <td align=\"left\" style=\"text-align:left\">Newline</td>    \n",
    "  </tr>\n",
    "    <tr>\n",
    "      <td align=\"center\" style=\"text-align:left\">\\nnn</td>\n",
    "      <td align=\"left\" style=\"text-align:left\"></td>    \n",
    "      <td align=\"left\" style=\"text-align:left\">Octal notation, where n is in the range 0.7</td>    \n",
    "  </tr>\n",
    "    <tr>\n",
    "      <td align=\"center\" style=\"text-align:left\">\\r</td>\n",
    "      <td align=\"left\" style=\"text-align:left\">0x0d</td>    \n",
    "      <td align=\"left\" style=\"text-align:left\">Carriage return</td>    \n",
    "  </tr>\n",
    "    <tr>\n",
    "      <td align=\"center\" style=\"text-align:left\">\\s</td>\n",
    "      <td align=\"left\" style=\"text-align:left\">0x20</td>    \n",
    "      <td align=\"left\" style=\"text-align:left\">Space</td>    \n",
    "  </tr>\n",
    "    <tr>\n",
    "      <td align=\"center\" style=\"text-align:left\">\\t</td>\n",
    "      <td align=\"left\" style=\"text-align:left\">0x09</td>    \n",
    "      <td align=\"left\" style=\"text-align:left\">Tab</td>    \n",
    "  </tr>\n",
    "    <tr>\n",
    "      <td align=\"center\" style=\"text-align:left\">\\v</td>\n",
    "      <td align=\"left\" style=\"text-align:left\">0x0b</td>    \n",
    "      <td align=\"left\" style=\"text-align:left\">Vertical tab</td>    \n",
    "  </tr>\n",
    "    <tr>\n",
    "      <td align=\"center\" style=\"text-align:left\">\\x</td>\n",
    "      <td align=\"left\" style=\"text-align:left\"></td>    \n",
    "      <td align=\"left\" style=\"text-align:left\">Character x</td>    \n",
    "  </tr>\n",
    "    <tr>\n",
    "      <td align=\"center\" style=\"text-align:left\">\\xnn</td>\n",
    "      <td align=\"left\" style=\"text-align:left\"></td>    \n",
    "      <td align=\"left\" style=\"text-align:left\">Hexadecimal notation, where n is in the range 0.9, a.f, or A.F</td>    \n",
    "  </tr>\n",
    "</table>"
   ]
  },
  {
   "cell_type": "markdown",
   "metadata": {
    "id": "LLIskWs07OMm"
   },
   "source": [
    "## ***8.5 - String Special Operators***"
   ]
  },
  {
   "cell_type": "markdown",
   "metadata": {
    "id": "-FuypRym7ZYb"
   },
   "source": [
    "Assume variable a holds 'Hello' and variable b holds 'Python', then:\n",
    "\n",
    "<table align=\"center\">\n",
    " <tr>\n",
    "    <th style=\"text-align:left\">Operator</th>\n",
    "    <th style=\"text-align:left\">Description</th>\n",
    "    <th style=\"text-align:left\">Example</th>\n",
    "  </tr>\n",
    "  <tr>\n",
    "      <td align=\"center\" style=\"text-align:left\">+</td>\n",
    "      <td align=\"left\" style=\"text-align:left\">Concatenation - Adds values on either side of the operator</td>    \n",
    "      <td align=\"left\" style=\"text-align:left\">a + b will give <b>HelloPython</b></td>    \n",
    "  </tr>\n",
    "  <tr>\n",
    "      <td align=\"center\" style=\"text-align:left\">*</td>\n",
    "      <td align=\"left\" style=\"text-align:left\">Repetition - Creates new strings, concatenating multiple copies of the same string</td>    \n",
    "      <td align=\"left\" style=\"text-align:left\">a*2 will give <b>HelloHello</b></td>    \n",
    "  </tr>\n",
    "  <tr>\n",
    "      <td align=\"center\" style=\"text-align:left\">[ ]</td>\n",
    "      <td align=\"left\" style=\"text-align:left\">Slice - Gives the character from the given index</td>    \n",
    "      <td align=\"left\" style=\"text-align:left\">a[1] will give <b>e</b></td>    \n",
    "  </tr>\n",
    "  <tr>\n",
    "      <td align=\"center\" style=\"text-align:left\">[ : ]</td>\n",
    "      <td align=\"left\" style=\"text-align:left\">Range Slice - Gives the characters from the given range</td>    \n",
    "      <td align=\"left\" style=\"text-align:left\">a[1:4] will give <b>ell</b> </td>    \n",
    "  </tr>\n",
    "  <tr>\n",
    "      <td align=\"center\" style=\"text-align:left\">in</td>\n",
    "      <td align=\"left\" style=\"text-align:left\">Membership - Returns true if a character exists in the given string</td>    \n",
    "      <td align=\"left\" style=\"text-align:left\"><b>H in a</b> will give 1</td>    \n",
    "  </tr>\n",
    "  <tr>\n",
    "      <td align=\"center\" style=\"text-align:left\">not in</td>\n",
    "      <td align=\"left\" style=\"text-align:left\">Membership - Returns true if a character does not exist in the given string</td>    \n",
    "      <td align=\"left\" style=\"text-align:left\"><b>M not in a</b> will give 1</td>    \n",
    "  </tr>\n",
    "  <tr>\n",
    "      <td align=\"center\" style=\"text-align:left\">r/R</td>\n",
    "      <td align=\"left\" style=\"text-align:left\">Raw String - Suppresses actual meaning of Escape characters.<br> The syntax for raw strings is exactly the same as for normal <br>strings with the exception of the raw string operator, the letter <br> \"r,\" which precedes the quotation marks. The \"r\" can be<br> lowercase (r) or uppercase (R) and must be placed immediately<br> preceding the first quote mark.</td>    \n",
    "      <td align=\"left\" style=\"text-align:left\"><b>print(r'\\n')</b> prints \\n and <b>print(R'\\n')</b> prints \\n</td>    \n",
    "  </tr>\n",
    "  <tr>\n",
    "      <td align=\"center\" style=\"text-align:left\">%</td>\n",
    "      <td align=\"left\" style=\"text-align:left\">Format - Performs String formatting</td>    \n",
    "      <td align=\"left\" style=\"text-align:left\">See at next section</td>    \n",
    "  </tr>\n",
    "</table>"
   ]
  },
  {
   "cell_type": "markdown",
   "metadata": {
    "id": "fbdrdvSdDl_W"
   },
   "source": [
    "## ***8.6 - String Formatting Operator %***"
   ]
  },
  {
   "cell_type": "markdown",
   "metadata": {
    "id": "ndYUQx2zDtUr"
   },
   "source": [
    "One of Python's most useful features is the string format operator % (which we have used before). This operator is unique to strings. The following is an example."
   ]
  },
  {
   "cell_type": "code",
   "execution_count": 14,
   "metadata": {
    "colab": {
     "base_uri": "https://localhost:8080/"
    },
    "id": "rUHBWsF32-JZ",
    "outputId": "92241206-b70d-4416-d622-b961b563a5d7",
    "scrolled": true
   },
   "outputs": [
    {
     "name": "stdout",
     "output_type": "stream",
     "text": [
      "What is your name? Kumar\n",
      "What is your age? 25\n",
      "My name is Kumar and I am 25 years old!\n"
     ]
    }
   ],
   "source": [
    "name = input(\"What is your name? \")\n",
    "age = input(\"What is your age? \")\n",
    "print(\"My name is %s and I am %d years old!\" % (name, int(age)))"
   ]
  },
  {
   "cell_type": "markdown",
   "metadata": {},
   "source": [
    "From python 3.6 onwards, F-strings have been [introduced](https://www.python.org/dev/peps/pep-0498/) as an improved way to format strings. Above statement can be written using f-strings as below:"
   ]
  },
  {
   "cell_type": "code",
   "execution_count": 15,
   "metadata": {},
   "outputs": [
    {
     "name": "stdout",
     "output_type": "stream",
     "text": [
      "My name is Kumar and I am 25 years old!\n"
     ]
    }
   ],
   "source": [
    "print(f\"My name is {name} and I am {age} years old!\")"
   ]
  },
  {
   "cell_type": "markdown",
   "metadata": {
    "id": "_Vxp3YJPD-Ld"
   },
   "source": [
    "Here is the list of complete set of symbols which can be used along with %:\n",
    "\n",
    "<table align=\"center\">\n",
    " <tr>\n",
    "    <th style=\"text-align:left\">Format Symbol</th>\n",
    "    <th style=\"text-align:left\">Conversion</th>\n",
    " \n",
    "  </tr>\n",
    "  <tr>\n",
    "      <td align=\"center\" style=\"text-align:left\">%c</td>\n",
    "      <td align=\"left\" style=\"text-align:left\">character</td>    \n",
    "       \n",
    "  </tr>\n",
    "   <tr>\n",
    "      <td align=\"center\" style=\"text-align:left\">%s</td>\n",
    "      <td align=\"left\" style=\"text-align:left\">string conversion via str() prior to formatting</td>    \n",
    "       \n",
    "  </tr>\n",
    "   <tr>\n",
    "      <td align=\"center\" style=\"text-align:left\">%i</td>\n",
    "      <td align=\"left\" style=\"text-align:left\">signed decimal integer</td>    \n",
    "       \n",
    "  </tr>\n",
    "   <tr>\n",
    "      <td align=\"center\" style=\"text-align:left\">%d</td>\n",
    "      <td align=\"left\" style=\"text-align:left\">signed decimal integer</td>    \n",
    "       \n",
    "  </tr>\n",
    "   <tr>\n",
    "      <td align=\"center\" style=\"text-align:left\">%u</td>\n",
    "      <td align=\"left\" style=\"text-align:left\">unsigned decimal integer</td>    \n",
    "       \n",
    "  </tr>\n",
    "   <tr>\n",
    "      <td align=\"center\" style=\"text-align:left\">%o</td>\n",
    "      <td align=\"left\" style=\"text-align:left\">octal integer</td>    \n",
    "       \n",
    "  </tr>\n",
    "   <tr>\n",
    "      <td align=\"center\" style=\"text-align:left\">%x</td>\n",
    "      <td align=\"left\" style=\"text-align:left\">hexadecimal integer (lowercase letters)</td>    \n",
    "       \n",
    "  </tr>\n",
    "   <tr>\n",
    "      <td align=\"center\" style=\"text-align:left\">%X</td>\n",
    "      <td align=\"left\" style=\"text-align:left\">hexadecimal integer (UPPERcase letters)</td>    \n",
    "       \n",
    "  </tr>\n",
    "   <tr>\n",
    "      <td align=\"center\" style=\"text-align:left\">%e</td>\n",
    "      <td align=\"left\" style=\"text-align:left\">exponential notation (with lowercase 'e')</td>    \n",
    "       \n",
    "  </tr>\n",
    "   <tr>\n",
    "      <td align=\"center\" style=\"text-align:left\">%E</td>\n",
    "      <td align=\"left\" style=\"text-align:left\">exponential notation (with UPPERcase 'E')</td>    \n",
    "       \n",
    "  </tr>\n",
    "   <tr>\n",
    "      <td align=\"center\" style=\"text-align:left\">%f</td>\n",
    "      <td align=\"left\" style=\"text-align:left\">floating point real number</td>    \n",
    "       \n",
    "  </tr>\n",
    "   <tr>\n",
    "      <td align=\"center\" style=\"text-align:left\">%g</td>\n",
    "      <td align=\"left\" style=\"text-align:left\">the shorter of %f and %e</td>    \n",
    "       \n",
    "  </tr>\n",
    "   <tr>\n",
    "      <td align=\"center\" style=\"text-align:left\">%G</td>\n",
    "      <td align=\"left\" style=\"text-align:left\">the shorter of %f and %E</td>    \n",
    "       \n",
    "  </tr>\n",
    "</table>\n",
    "\n",
    "\n"
   ]
  },
  {
   "cell_type": "markdown",
   "metadata": {
    "id": "6uB4DkezKtyw"
   },
   "source": [
    "Other supported symbols and functionality are listed in the following.\n",
    "\n",
    "<table align=\"center\">\n",
    " <tr>\n",
    "    <th style=\"text-align:left\">Symbol</th>\n",
    "    <th style=\"text-align:left\">Functionality</th>\n",
    " \n",
    "  </tr>\n",
    "  <tr>\n",
    "      <td align=\"center\" style=\"text-align:left\">*</td>\n",
    "      <td align=\"left\" style=\"text-align:left\">argument specifies width or precision</td>     \n",
    "  </tr>\n",
    "  <tr>\n",
    "      <td align=\"center\" style=\"text-align:left\">-</td>\n",
    "      <td align=\"left\" style=\"text-align:left\">left justification</td>     \n",
    "  </tr>\n",
    "  <tr>\n",
    "      <td align=\"center\" style=\"text-align:left\">+</td>\n",
    "      <td align=\"left\" style=\"text-align:left\">display the sign</td>     \n",
    "  </tr>\n",
    "  <tr>\n",
    "      <td align=\"center\" style=\"text-align:left\">&#60sp&#62</td>\n",
    "      <td align=\"left\" style=\"text-align:left\">leave a blank space before a positive number</td>     \n",
    "  </tr>\n",
    "  <tr>\n",
    "      <td align=\"center\" style=\"text-align:left\">#</td>\n",
    "      <td align=\"left\" style=\"text-align:left\">add the octal leading zero ( '0' ) or hexadecimal leading '0x' or '0X', depending on whether 'x' or 'X' were used.</td>     \n",
    "  </tr>\n",
    "  <tr>\n",
    "      <td align=\"center\" style=\"text-align:left\">0</td>\n",
    "      <td align=\"left\" style=\"text-align:left\">pad from left with zeros (instead of spaces)</td>     \n",
    "  </tr>\n",
    "  <tr>\n",
    "      <td align=\"center\" style=\"text-align:left\">%</td>\n",
    "      <td align=\"left\" style=\"text-align:left\">'%%' leaves you with a single literal '%'</td>     \n",
    "  </tr>\n",
    "  <tr>\n",
    "      <td align=\"center\" style=\"text-align:left\">(var)</td>\n",
    "      <td align=\"left\" style=\"text-align:left\">mapping variable (dictionary arguments)</td>     \n",
    "  </tr>\n",
    "  <tr>\n",
    "      <td align=\"center\" style=\"text-align:left\">m.n.</td>\n",
    "      <td align=\"left\" style=\"text-align:left\">m is the minimum total width and n is the number of digits to display after the decimal point (if appl.)</td>     \n",
    "  </tr>\n",
    "</table>"
   ]
  },
  {
   "cell_type": "markdown",
   "metadata": {},
   "source": [
    "Due to the limited support for data types other than int, str and double, the use of “%” formatting operator\n",
    "hindered the flexibility of the code while being verbose and error prone. Therefore, to avoid some of these\n",
    "issues, str.format() was introduced which uses function call syntax for formatting strings.\n",
    "\n",
    "Here is the same string formatted using the str.format()."
   ]
  },
  {
   "cell_type": "code",
   "execution_count": 8,
   "metadata": {},
   "outputs": [
    {
     "name": "stdout",
     "output_type": "stream",
     "text": [
      "My name is Kumar and I am 20 years old!\n"
     ]
    }
   ],
   "source": [
    "print(\"My name is {} and I am {} years old!\".format('Kumar', 20))"
   ]
  },
  {
   "cell_type": "markdown",
   "metadata": {},
   "source": [
    "You can also use keyword arguments to refer the values, since this is a function call (introduced in the\n",
    "section 9.4 )."
   ]
  },
  {
   "cell_type": "code",
   "execution_count": 9,
   "metadata": {},
   "outputs": [
    {
     "name": "stdout",
     "output_type": "stream",
     "text": [
      "My name is Kumar and I am 20 years old!\n"
     ]
    }
   ],
   "source": [
    "print(\"My name is {name} and I am {age} years old!\".format(name='Kumar', age=20))"
   ]
  },
  {
   "cell_type": "markdown",
   "metadata": {},
   "source": [
    "Since Python 3.6 string formatting has been further simplified to reduce the verbosity and increase the\n",
    "ability to understand the formatted strings. Formatted String Literals or F-strings allow you to include the\n",
    "value of a Python expression inside a string by prefixing the string with a character ‘f’ of ‘F’ and writing\n",
    "the expression as {expression}.\n",
    "\n",
    "Here is the same string formatted using f-strings. Notice the leading ‘f’ character in each string, which is\n",
    "used to denote that this is a formatted string."
   ]
  },
  {
   "cell_type": "code",
   "execution_count": 11,
   "metadata": {},
   "outputs": [
    {
     "name": "stdout",
     "output_type": "stream",
     "text": [
      "My name is Kumar and I am 20 years old!\n"
     ]
    }
   ],
   "source": [
    "print(f\"My name is {'Kumar'} and I am {20} years old!\")"
   ]
  },
  {
   "cell_type": "markdown",
   "metadata": {},
   "source": [
    "Or you can use the variables in a meaningful manner:"
   ]
  },
  {
   "cell_type": "code",
   "execution_count": 12,
   "metadata": {},
   "outputs": [
    {
     "name": "stdout",
     "output_type": "stream",
     "text": [
      "My name is Kumar and I am 20 years old!\n"
     ]
    }
   ],
   "source": [
    "name = 'Kumar'\n",
    "age = 20\n",
    "print(f\"My name is {name} and I am {age} years old!\")"
   ]
  },
  {
   "cell_type": "markdown",
   "metadata": {},
   "source": [
    "Refer [the official documentation on Formatted String Literals](https://docs.python.org/3/tutorial/inputoutput.html#formatted-string-literals) for further details."
   ]
  }
 ],
 "metadata": {
  "colab": {
   "name": "8 - Strings.ipynb",
   "provenance": []
  },
  "kernelspec": {
   "display_name": "Python 3.10.0 64-bit",
   "language": "python",
   "name": "python3"
  },
  "language_info": {
   "codemirror_mode": {
    "name": "ipython",
    "version": 3
   },
   "file_extension": ".py",
   "mimetype": "text/x-python",
   "name": "python",
   "nbconvert_exporter": "python",
   "pygments_lexer": "ipython3",
   "version": "3.10.0"
  },
  "vscode": {
   "interpreter": {
    "hash": "f828e95a9b9bc7dc8351a34f16a1f350f8657cec2dabd19a6b6b56268dd61f60"
   }
  }
 },
 "nbformat": 4,
 "nbformat_minor": 1
}
